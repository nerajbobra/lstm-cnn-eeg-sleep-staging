{
 "cells": [
  {
   "cell_type": "markdown",
   "metadata": {},
   "source": [
    "## Generate Spectrograms\n",
    "\n",
    "This script loads each recording and calculates spectrograms of the time series. Specifically, five consecutive thirty-second blocks of data are selected (from both channels) and the spectrograms are calculated on each 30 second block (for each channel)."
   ]
  },
  {
   "cell_type": "code",
   "execution_count": 1,
   "metadata": {},
   "outputs": [],
   "source": [
    "import matplotlib.pyplot as plt\n",
    "import numpy as np\n",
    "import pdb\n",
    "import pandas as pd\n",
    "import os\n",
    "import glob\n",
    "from scipy.signal import spectrogram\n",
    "import pickle\n",
    "import random\n",
    "\n",
    "import warnings\n",
    "warnings.filterwarnings(\"error\")"
   ]
  },
  {
   "cell_type": "markdown",
   "metadata": {},
   "source": [
    "Define some constants"
   ]
  },
  {
   "cell_type": "code",
   "execution_count": 2,
   "metadata": {},
   "outputs": [],
   "source": [
    "#all EEG data is 100Hz sampling rate\n",
    "FS = 100\n",
    "\n",
    "#length of spectrogram in seconds\n",
    "SPEC_LEN = 30\n",
    "\n",
    "#define the data directory\n",
    "data_dir = 'data/'"
   ]
  },
  {
   "cell_type": "markdown",
   "metadata": {},
   "source": [
    "Define a function to get the most frequent label within a 30-second block, if there are multiple labels. The most frequent label will apply to the entire block."
   ]
  },
  {
   "cell_type": "code",
   "execution_count": 3,
   "metadata": {},
   "outputs": [],
   "source": [
    "def get_most_frequent_label(labels):\n",
    "    unique_labels = np.unique(labels)\n",
    "    label_counts = {}\n",
    "    for unique_label in unique_labels:\n",
    "        label_counts[unique_label] = sum(labels==unique_label)\n",
    "\n",
    "    most_frequent_label = unique_labels[0]\n",
    "    for key, value in label_counts.items():\n",
    "        if value > label_counts[most_frequent_label]:\n",
    "            most_frequent_label = key\n",
    "\n",
    "    return most_frequent_label\n"
   ]
  },
  {
   "cell_type": "markdown",
   "metadata": {},
   "source": [
    "Define a function to do the spectrogram calculations"
   ]
  },
  {
   "cell_type": "code",
   "execution_count": 4,
   "metadata": {},
   "outputs": [],
   "source": [
    "def calculate_spectrograms(pkl_files, data_group):\n",
    "\n",
    "    #store sets of 5 spectrograms and corresponding labels\n",
    "    spectrogram_list = []\n",
    "    labels_list = []\n",
    "    do_plot = True\n",
    "\n",
    "    for pkl_file in pkl_files:\n",
    "        df = pd.read_pickle(pkl_file)\n",
    "        spectrogram_list_tmp = []\n",
    "        labels_list_tmp = []\n",
    "\n",
    "        #load 5 thirty-second blocks of EEG data and corresponding labels\n",
    "        #apply bandpass filters on each block, and then calculate the spectrogram\n",
    "        #define the label of that window to the be the majority label if there are multiple labels\n",
    "        ind = 0\n",
    "        while(ind < len(df)):\n",
    "            #grab 30 seconds of data\n",
    "            df_tmp = df.iloc[ind:ind+FS*SPEC_LEN]\n",
    "            ch1_tmp = df_tmp['EEG Fpz-Cz'].values\n",
    "            ch2_tmp = df_tmp['EEG Pz-Oz'].values\n",
    "            label_tmp = get_most_frequent_label(df_tmp['label'].values)\n",
    "\n",
    "            #subtract mean, unit variance\n",
    "            #sometimes there is garbage data that is flatlined constant, in which case the std is zero\n",
    "            #catch the divide by zero warning and throw away the whole 5 block group\n",
    "            try:\n",
    "                ch1_tmp = (ch1_tmp-np.mean(ch1_tmp))/np.std(ch1_tmp)\n",
    "                ch2_tmp = (ch2_tmp-np.mean(ch2_tmp))/np.std(ch2_tmp)\n",
    "            except Exception as e:\n",
    "                spectrogram_list_tmp = []\n",
    "                labels_list_tmp = []\n",
    "                ind = ind + FS*SPEC_LEN\n",
    "                continue\n",
    "\n",
    "            #calculate spectrograms\n",
    "            f1, t1, Sxx1 = spectrogram(ch1_tmp, fs=FS, nperseg=int(FS*2), noverlap=int(FS/2))\n",
    "            f2, t2, Sxx2 = spectrogram(ch2_tmp, fs=FS, nperseg=int(FS*2), noverlap=int(FS/2))\n",
    "        \n",
    "            if do_plot:\n",
    "                do_plot = False\n",
    "                plt.subplots(figsize=(10,6))\n",
    "                plt.pcolormesh(t1, f1, 20*np.log10(np.abs(Sxx2)), shading='jet')\n",
    "                plt.xlabel('Time (Seconds)')\n",
    "                plt.ylabel('Frequency (Hz)')\n",
    "                plt.savefig('spectrogram.png', dpi=150)\n",
    "                plt.show()\n",
    "            \n",
    "            spectrogram_list_tmp.append((Sxx1, Sxx2))\n",
    "            labels_list_tmp.append(label_tmp)\n",
    "            ind = ind + FS*SPEC_LEN\n",
    "\n",
    "            if len(spectrogram_list_tmp) == 5:\n",
    "                #package this result, only if there are no -1 labels\n",
    "                if -1 not in labels_list_tmp:\n",
    "                    spectrogram_list.append(spectrogram_list_tmp)\n",
    "                    labels_list.append(labels_list_tmp)\n",
    "\n",
    "                spectrogram_list_tmp = []\n",
    "                labels_list_tmp = []\n",
    "\n",
    "\n",
    "    #save the results\n",
    "    pickle.dump(spectrogram_list, open('X_%s_spec.pkl' % data_group, 'wb'))\n",
    "    pickle.dump(labels_list, open('y_%s.pkl' % data_group, 'wb'))\n",
    "    "
   ]
  },
  {
   "cell_type": "markdown",
   "metadata": {},
   "source": [
    "Do the spectrogram calculations by train, test, and validation sets"
   ]
  },
  {
   "cell_type": "code",
   "execution_count": 6,
   "metadata": {
    "scrolled": false
   },
   "outputs": [
    {
     "name": "stdout",
     "output_type": "stream",
     "text": [
      "data/SC4121EC.pkl\n"
     ]
    },
    {
     "data": {
      "image/png": "[encoded data removed]",
      "text/plain": [
       "<Figure size 720x432 with 1 Axes>"
      ]
     },
     "metadata": {
      "needs_background": "light"
     },
     "output_type": "display_data"
    },
    {
     "name": "stderr",
     "output_type": "stream",
     "text": [
      "Exception ignored in: <_io.FileIO name='X_SC4121EC_spec.pkl' mode='wb' closefd=True>\n",
      "ResourceWarning: unclosed file <_io.BufferedWriter name='X_SC4121EC_spec.pkl'>\n",
      "Exception ignored in: <_io.FileIO name='y_SC4121EC.pkl' mode='wb' closefd=True>\n",
      "ResourceWarning: unclosed file <_io.BufferedWriter name='y_SC4121EC.pkl'>\n"
     ]
    }
   ],
   "source": [
    "#pick a random 10% of the files for validation\n",
    "pkl_files_val = ['data/SC4762EG.pkl', 'data/ST7202JO.pkl', 'data/SC4002EC.pkl', 'data/ST7242JO.pkl', 'data/SC4491GJ.pkl', 'data/SC4382FW.pkl', 'data/SC4461FA.pkl', 'data/SC4431EM.pkl', 'data/SC4341FA.pkl', 'data/SC4171EU.pkl', 'data/SC4752EM.pkl', 'data/ST7101JE.pkl', 'data/SC4761EP.pkl', 'data/SC4372FC.pkl', 'data/SC4301EC.pkl', 'data/SC4221EJ.pkl', 'data/SC4801GC.pkl', 'data/SC4591GY.pkl', 'data/SC4531EM.pkl']\n",
    "\n",
    "#pick a random 20% of the files for testing\n",
    "pkl_files_test = ['data/ST7181JR.pkl', 'data/SC4311EC.pkl', 'data/SC4601EC.pkl', 'data/SC4321EC.pkl', 'data/SC4611EG.pkl', 'data/ST7212JJ.pkl', 'data/SC4101EC.pkl', 'data/ST7151JA.pkl', 'data/SC4661EJ.pkl', 'data/SC4411EJ.pkl', 'data/SC4282GC.pkl', 'data/SC4822GC.pkl', 'data/SC4771GC.pkl', 'data/SC4522EM.pkl', 'data/ST7182JR.pkl', 'data/SC4701EC.pkl', 'data/SC4271FC.pkl', 'data/SC4172EC.pkl', 'data/ST7022JM.pkl', 'data/SC4011EH.pkl', 'data/SC4022EJ.pkl', 'data/SC4091EC.pkl', 'data/SC4191EP.pkl', 'data/SC4641EP.pkl', 'data/SC4551FC.pkl', 'data/SC4642EP.pkl', 'data/SC4731EM.pkl', 'data/SC4012EC.pkl', 'data/SC4021EH.pkl', 'data/SC4502EM.pkl', 'data/SC4072EH.pkl', 'data/ST7241JO.pkl', 'data/SC4441EC.pkl', 'data/SC4602EJ.pkl', 'data/SC4362FC.pkl', 'data/SC4652EG.pkl', 'data/SC4202EC.pkl', 'data/SC4651EP.pkl']\n",
    "\n",
    "#pick a random 70% of the files for training\n",
    "pkl_files_train = ['data/SC4121EC.pkl', 'data/SC4512EW.pkl', 'data/SC4051EC.pkl', 'data/SC4342FA.pkl', 'data/SC4141EU.pkl', 'data/SC4412EM.pkl', 'data/SC4272FM.pkl', 'data/SC4721EC.pkl', 'data/SC4472FA.pkl', 'data/SC4632EA.pkl', 'data/SC4741EA.pkl', 'data/ST7222JA.pkl', 'data/SC4422EA.pkl', 'data/ST7011JP.pkl', 'data/ST7112JE.pkl', 'data/SC4542FW.pkl', 'data/ST7161JM.pkl', 'data/SC4562FJ.pkl', 'data/ST7122JE.pkl', 'data/SC4062EC.pkl', 'data/SC4322EC.pkl', 'data/SC4181EC.pkl', 'data/ST7162JM.pkl', 'data/SC4031EC.pkl', 'data/SC4102EC.pkl', 'data/SC4811GG.pkl', 'data/ST7012JP.pkl', 'data/SC4042EC.pkl', 'data/SC4081EC.pkl', 'data/SC4541FA.pkl', 'data/SC4671GJ.pkl', 'data/SC4442EV.pkl', 'data/ST7052JA.pkl', 'data/SC4212EC.pkl', 'data/SC4261FM.pkl', 'data/SC4331FV.pkl', 'data/SC4462FJ.pkl', 'data/ST7171JA.pkl', 'data/SC4812GV.pkl', 'data/SC4241EC.pkl', 'data/ST7111JE.pkl', 'data/SC4631EM.pkl', 'data/SC4742EC.pkl', 'data/SC4332FC.pkl', 'data/SC4262FC.pkl', 'data/SC4571FV.pkl', 'data/SC4492GJ.pkl', 'data/SC4302EV.pkl', 'data/SC4621EV.pkl', 'data/SC4451FY.pkl', 'data/SC4501EW.pkl', 'data/SC4662EJ.pkl', 'data/SC4312EM.pkl', 'data/SC4511EJ.pkl', 'data/SC4251EP.pkl', 'data/ST7191JR.pkl', 'data/SC4122EV.pkl', 'data/SC4111EC.pkl', 'data/ST7042JO.pkl', 'data/ST7082JW.pkl', 'data/SC4481FV.pkl', 'data/SC4702EA.pkl', 'data/SC4552FW.pkl', 'data/SC4581GM.pkl', 'data/SC4572FC.pkl', 'data/SC4292GC.pkl', 'data/ST7072JA.pkl', 'data/SC4482FJ.pkl', 'data/SC4082EP.pkl', 'data/SC4471FA.pkl', 'data/SC4711EC.pkl', 'data/SC4532EV.pkl', 'data/ST7121JE.pkl', 'data/SC4152EC.pkl', 'data/SC4291GA.pkl', 'data/SC4211EC.pkl', 'data/SC4092EC.pkl', 'data/SC4071EC.pkl', 'data/SC4381FC.pkl', 'data/ST7192JR.pkl', 'data/SC4561FJ.pkl', 'data/ST7201JO.pkl', 'data/SC4281GC.pkl', 'data/SC4351FA.pkl', 'data/ST7062JR.pkl', 'data/SC4052EC.pkl', 'data/SC4772GC.pkl', 'data/SC4821GC.pkl', 'data/SC4001EC.pkl', 'data/ST7172JA.pkl', 'data/SC4222EC.pkl', 'data/ST7152JA.pkl', 'data/ST7061JR.pkl', 'data/SC4242EA.pkl', 'data/ST7051JA.pkl', 'data/SC4162EC.pkl', 'data/SC4622EJ.pkl', 'data/ST7211JJ.pkl', 'data/SC4161EC.pkl', 'data/SC4421EA.pkl', 'data/SC4112EC.pkl', 'data/SC4432EM.pkl', 'data/SC4712EA.pkl', 'data/SC4722EM.pkl', 'data/SC4371FA.pkl', 'data/SC4582GP.pkl', 'data/SC4192EV.pkl', 'data/SC4151EC.pkl', 'data/SC4201EC.pkl', 'data/SC4232EV.pkl', 'data/SC4612EA.pkl', 'data/SC4592GY.pkl', 'data/SC4352FV.pkl', 'data/ST7221JA.pkl', 'data/ST7091JE.pkl', 'data/ST7102JE.pkl', 'data/SC4751EC.pkl', 'data/SC4672GV.pkl', 'data/SC4402EW.pkl', 'data/SC4182EC.pkl', 'data/SC4452FW.pkl', 'data/SC4732EJ.pkl', 'data/ST7081JW.pkl', 'data/SC4142EU.pkl', 'data/SC4061EC.pkl', 'data/ST7041JO.pkl', 'data/SC4802GV.pkl', 'data/SC4252EU.pkl', 'data/SC4041EC.pkl', 'data/SC4231EJ.pkl', 'data/SC4032EP.pkl', 'data/SC4131EC.pkl', 'data/SC4401EC.pkl']\n",
    "\n",
    "#do spectrogram calculations\n",
    "calculate_spectrograms(pkl_files_val, 'val')\n",
    "calculate_spectrograms(pkl_files_test, 'test')\n",
    "calculate_spectrograms(pkl_files_train, 'train')\n",
    "calculate_spectrograms(['data/SC4121EC.pkl'], 'SC4121EC')"
   ]
  }
 ],
 "metadata": {
  "kernelspec": {
   "display_name": "Python 3",
   "language": "python",
   "name": "python3"
  },
  "language_info": {
   "codemirror_mode": {
    "name": "ipython",
    "version": 3
   },
   "file_extension": ".py",
   "mimetype": "text/x-python",
   "name": "python",
   "nbconvert_exporter": "python",
   "pygments_lexer": "ipython3",
   "version": "3.7.6"
  }
 },
 "nbformat": 4,
 "nbformat_minor": 4
}
