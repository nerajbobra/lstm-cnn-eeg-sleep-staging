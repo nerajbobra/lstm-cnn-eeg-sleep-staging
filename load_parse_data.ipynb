{
 "cells": [
  {
   "cell_type": "markdown",
   "metadata": {},
   "source": [
    "## Download and Parse Sleep-EDF Database "
   ]
  },
  {
   "cell_type": "markdown",
   "metadata": {},
   "source": [
    "This notebook will download and parse through the EDF database data"
   ]
  },
  {
   "cell_type": "code",
   "execution_count": 1,
   "metadata": {},
   "outputs": [],
   "source": [
    "import matplotlib.pyplot as plt\n",
    "import numpy as np\n",
    "import pdb\n",
    "import pandas as pd\n",
    "import os\n",
    "import urllib.request\n",
    "from pyedflib import highlevel\n",
    "import glob"
   ]
  },
  {
   "cell_type": "markdown",
   "metadata": {},
   "source": [
    "Define some constants "
   ]
  },
  {
   "cell_type": "code",
   "execution_count": 2,
   "metadata": {},
   "outputs": [],
   "source": [
    "\"\"\"\n",
    "Definition of sleep stages:\n",
    "Wake = 0\n",
    "N1 = 1\n",
    "N2 = 2\n",
    "N3 = 3\n",
    "N4 = 4\n",
    "REM = 5\n",
    "Artifact/Unlabeled: -1\n",
    "\"\"\"\n",
    "\n",
    "#all EEG data is 100Hz sampling rate\n",
    "fs = 100\n",
    "\n",
    "#URL for data\n",
    "data_url = 'https://archive.physionet.org/physiobank/database/sleep-edfx/'\n",
    "\n",
    "#define the data directory\n",
    "data_dir = 'data/'"
   ]
  },
  {
   "cell_type": "markdown",
   "metadata": {},
   "source": [
    "Download the data"
   ]
  },
  {
   "cell_type": "code",
   "execution_count": 3,
   "metadata": {
    "scrolled": false
   },
   "outputs": [
    {
     "name": "stdout",
     "output_type": "stream",
     "text": [
      "Downloading SC4002EC-Hypnogram.edf...\n",
      "Downloading SC4011E0-PSG.edf...\n",
      "Downloading SC4011EH-Hypnogram.edf...\n",
      "Downloading SC4012E0-PSG.edf...\n",
      "Downloading SC4012EC-Hypnogram.edf...\n",
      "Downloading SC4021E0-PSG.edf...\n",
      "Downloading SC4021EH-Hypnogram.edf...\n",
      "Downloading SC4022E0-PSG.edf...\n",
      "Downloading SC4022EJ-Hypnogram.edf...\n",
      "Downloading SC4031E0-PSG.edf...\n",
      "Downloading SC4031EC-Hypnogram.edf...\n",
      "Downloading SC4032E0-PSG.edf...\n",
      "Downloading SC4032EP-Hypnogram.edf...\n",
      "Downloading SC4041E0-PSG.edf...\n",
      "Downloading SC4041EC-Hypnogram.edf...\n",
      "Downloading SC4042E0-PSG.edf...\n",
      "Downloading SC4042EC-Hypnogram.edf...\n",
      "Downloading SC4051E0-PSG.edf...\n",
      "Downloading SC4051EC-Hypnogram.edf...\n",
      "Downloading SC4052E0-PSG.edf...\n",
      "Downloading SC4052EC-Hypnogram.edf...\n",
      "Downloading SC4061E0-PSG.edf...\n",
      "Downloading SC4061EC-Hypnogram.edf...\n",
      "Downloading SC4062E0-PSG.edf...\n",
      "Downloading SC4062EC-Hypnogram.edf...\n",
      "Downloading SC4071E0-PSG.edf...\n",
      "Downloading SC4071EC-Hypnogram.edf...\n",
      "Downloading SC4072E0-PSG.edf...\n",
      "Downloading SC4072EH-Hypnogram.edf...\n",
      "Downloading SC4081E0-PSG.edf...\n",
      "Downloading SC4081EC-Hypnogram.edf...\n",
      "Downloading SC4082E0-PSG.edf...\n",
      "Downloading SC4082EP-Hypnogram.edf...\n",
      "Downloading SC4091E0-PSG.edf...\n",
      "Downloading SC4091EC-Hypnogram.edf...\n",
      "Downloading SC4092E0-PSG.edf...\n",
      "Downloading SC4092EC-Hypnogram.edf...\n",
      "Downloading SC4101E0-PSG.edf...\n",
      "Downloading SC4101EC-Hypnogram.edf...\n",
      "Downloading SC4102E0-PSG.edf...\n",
      "Downloading SC4102EC-Hypnogram.edf...\n",
      "Downloading SC4111E0-PSG.edf...\n",
      "Downloading SC4111EC-Hypnogram.edf...\n",
      "Downloading SC4112E0-PSG.edf...\n",
      "Downloading SC4112EC-Hypnogram.edf...\n",
      "Downloading SC4121E0-PSG.edf...\n",
      "Downloading SC4121EC-Hypnogram.edf...\n",
      "Downloading SC4122E0-PSG.edf...\n",
      "Downloading SC4122EV-Hypnogram.edf...\n",
      "Downloading SC4131E0-PSG.edf...\n",
      "Downloading SC4131EC-Hypnogram.edf...\n",
      "Downloading SC4141E0-PSG.edf...\n",
      "Downloading SC4141EU-Hypnogram.edf...\n",
      "Downloading SC4142E0-PSG.edf...\n",
      "Downloading SC4142EU-Hypnogram.edf...\n",
      "Downloading SC4151E0-PSG.edf...\n",
      "Downloading SC4151EC-Hypnogram.edf...\n",
      "Downloading SC4152E0-PSG.edf...\n",
      "Downloading SC4152EC-Hypnogram.edf...\n",
      "Downloading SC4161E0-PSG.edf...\n",
      "Downloading SC4161EC-Hypnogram.edf...\n",
      "Downloading SC4162E0-PSG.edf...\n",
      "Downloading SC4162EC-Hypnogram.edf...\n",
      "Downloading SC4171E0-PSG.edf...\n",
      "Downloading SC4171EU-Hypnogram.edf...\n",
      "Downloading SC4172E0-PSG.edf...\n",
      "Downloading SC4172EC-Hypnogram.edf...\n",
      "Downloading SC4181E0-PSG.edf...\n",
      "Downloading SC4181EC-Hypnogram.edf...\n",
      "Downloading SC4182E0-PSG.edf...\n",
      "Downloading SC4182EC-Hypnogram.edf...\n",
      "Downloading SC4191E0-PSG.edf...\n",
      "Downloading SC4191EP-Hypnogram.edf...\n",
      "Downloading SC4192E0-PSG.edf...\n",
      "Downloading SC4192EV-Hypnogram.edf...\n",
      "Downloading SC4201E0-PSG.edf...\n",
      "Downloading SC4201EC-Hypnogram.edf...\n",
      "Downloading SC4202E0-PSG.edf...\n",
      "Downloading SC4202EC-Hypnogram.edf...\n",
      "Downloading SC4211E0-PSG.edf...\n",
      "Downloading SC4211EC-Hypnogram.edf...\n",
      "Downloading SC4212E0-PSG.edf...\n",
      "Downloading SC4212EC-Hypnogram.edf...\n",
      "Downloading SC4221E0-PSG.edf...\n",
      "Downloading SC4221EJ-Hypnogram.edf...\n",
      "Downloading SC4222E0-PSG.edf...\n",
      "Downloading SC4222EC-Hypnogram.edf...\n",
      "Downloading SC4231E0-PSG.edf...\n",
      "Downloading SC4231EJ-Hypnogram.edf...\n",
      "Downloading SC4232E0-PSG.edf...\n",
      "Downloading SC4232EV-Hypnogram.edf...\n",
      "Downloading SC4241E0-PSG.edf...\n",
      "Downloading SC4241EC-Hypnogram.edf...\n",
      "Downloading SC4242E0-PSG.edf...\n",
      "Downloading SC4242EA-Hypnogram.edf...\n",
      "Downloading SC4251E0-PSG.edf...\n",
      "Downloading SC4251EP-Hypnogram.edf...\n",
      "Downloading SC4252E0-PSG.edf...\n",
      "Downloading SC4252EU-Hypnogram.edf...\n",
      "Downloading SC4261F0-PSG.edf...\n",
      "Downloading SC4261FM-Hypnogram.edf...\n",
      "Downloading SC4262F0-PSG.edf...\n",
      "Downloading SC4262FC-Hypnogram.edf...\n",
      "Downloading SC4271F0-PSG.edf...\n",
      "Downloading SC4271FC-Hypnogram.edf...\n",
      "Downloading SC4272F0-PSG.edf...\n",
      "Downloading SC4272FM-Hypnogram.edf...\n",
      "Downloading SC4281G0-PSG.edf...\n",
      "Downloading SC4281GC-Hypnogram.edf...\n",
      "Downloading SC4282G0-PSG.edf...\n",
      "Downloading SC4282GC-Hypnogram.edf...\n",
      "Downloading SC4291G0-PSG.edf...\n",
      "Downloading SC4291GA-Hypnogram.edf...\n",
      "Downloading SC4292G0-PSG.edf...\n",
      "Downloading SC4292GC-Hypnogram.edf...\n",
      "Downloading SC4301E0-PSG.edf...\n",
      "Downloading SC4301EC-Hypnogram.edf...\n",
      "Downloading SC4302E0-PSG.edf...\n",
      "Downloading SC4302EV-Hypnogram.edf...\n",
      "Downloading SC4311E0-PSG.edf...\n",
      "Downloading SC4311EC-Hypnogram.edf...\n",
      "Downloading SC4312E0-PSG.edf...\n",
      "Downloading SC4312EM-Hypnogram.edf...\n",
      "Downloading SC4321E0-PSG.edf...\n",
      "Downloading SC4321EC-Hypnogram.edf...\n",
      "Downloading SC4322E0-PSG.edf...\n",
      "Downloading SC4322EC-Hypnogram.edf...\n",
      "Downloading SC4331F0-PSG.edf...\n",
      "Downloading SC4331FV-Hypnogram.edf...\n",
      "Downloading SC4332F0-PSG.edf...\n",
      "Downloading SC4332FC-Hypnogram.edf...\n",
      "Downloading SC4341F0-PSG.edf...\n",
      "Downloading SC4341FA-Hypnogram.edf...\n",
      "Downloading SC4342F0-PSG.edf...\n",
      "Downloading SC4342FA-Hypnogram.edf...\n",
      "Downloading SC4351F0-PSG.edf...\n",
      "Downloading SC4351FA-Hypnogram.edf...\n",
      "Downloading SC4352F0-PSG.edf...\n",
      "Downloading SC4352FV-Hypnogram.edf...\n",
      "Downloading SC4362F0-PSG.edf...\n",
      "Downloading SC4362FC-Hypnogram.edf...\n",
      "Downloading SC4371F0-PSG.edf...\n",
      "Downloading SC4371FA-Hypnogram.edf...\n",
      "Downloading SC4372F0-PSG.edf...\n",
      "Downloading SC4372FC-Hypnogram.edf...\n",
      "Downloading SC4381F0-PSG.edf...\n",
      "Downloading SC4381FC-Hypnogram.edf...\n",
      "Downloading SC4382F0-PSG.edf...\n",
      "Downloading SC4382FW-Hypnogram.edf...\n",
      "Downloading SC4401E0-PSG.edf...\n",
      "Downloading SC4401EC-Hypnogram.edf...\n",
      "Downloading SC4402E0-PSG.edf...\n",
      "Downloading SC4402EW-Hypnogram.edf...\n",
      "Downloading SC4411E0-PSG.edf...\n",
      "Downloading SC4411EJ-Hypnogram.edf...\n",
      "Downloading SC4412E0-PSG.edf...\n",
      "Downloading SC4412EM-Hypnogram.edf...\n",
      "Downloading SC4421E0-PSG.edf...\n",
      "Downloading SC4421EA-Hypnogram.edf...\n",
      "Downloading SC4422E0-PSG.edf...\n",
      "Downloading SC4422EA-Hypnogram.edf...\n",
      "Downloading SC4431E0-PSG.edf...\n",
      "Downloading SC4431EM-Hypnogram.edf...\n",
      "Downloading SC4432E0-PSG.edf...\n",
      "Downloading SC4432EM-Hypnogram.edf...\n",
      "Downloading SC4441E0-PSG.edf...\n",
      "Downloading SC4441EC-Hypnogram.edf...\n",
      "Downloading SC4442E0-PSG.edf...\n",
      "Downloading SC4442EV-Hypnogram.edf...\n",
      "Downloading SC4451F0-PSG.edf...\n",
      "Downloading SC4451FY-Hypnogram.edf...\n",
      "Downloading SC4452F0-PSG.edf...\n",
      "Downloading SC4452FW-Hypnogram.edf...\n",
      "Downloading SC4461F0-PSG.edf...\n",
      "Downloading SC4461FA-Hypnogram.edf...\n",
      "Downloading SC4462F0-PSG.edf...\n",
      "Downloading SC4462FJ-Hypnogram.edf...\n",
      "Downloading SC4471F0-PSG.edf...\n",
      "Downloading SC4471FA-Hypnogram.edf...\n",
      "Downloading SC4472F0-PSG.edf...\n",
      "Downloading SC4472FA-Hypnogram.edf...\n",
      "Downloading SC4481F0-PSG.edf...\n",
      "Downloading SC4481FV-Hypnogram.edf...\n",
      "Downloading SC4482F0-PSG.edf...\n",
      "Downloading SC4482FJ-Hypnogram.edf...\n",
      "Downloading SC4491G0-PSG.edf...\n",
      "Downloading SC4491GJ-Hypnogram.edf...\n",
      "Downloading SC4492G0-PSG.edf...\n",
      "Downloading SC4492GJ-Hypnogram.edf...\n",
      "Downloading SC4501E0-PSG.edf...\n",
      "Downloading SC4501EW-Hypnogram.edf...\n",
      "Downloading SC4502E0-PSG.edf...\n",
      "Downloading SC4502EM-Hypnogram.edf...\n",
      "Downloading SC4511E0-PSG.edf...\n",
      "Downloading SC4511EJ-Hypnogram.edf...\n",
      "Downloading SC4512E0-PSG.edf...\n",
      "Downloading SC4512EW-Hypnogram.edf...\n",
      "Downloading SC4522E0-PSG.edf...\n",
      "Downloading SC4522EM-Hypnogram.edf...\n",
      "Downloading SC4531E0-PSG.edf...\n",
      "Downloading SC4531EM-Hypnogram.edf...\n",
      "Downloading SC4532E0-PSG.edf...\n",
      "Downloading SC4532EV-Hypnogram.edf...\n",
      "Downloading SC4541F0-PSG.edf...\n",
      "Downloading SC4541FA-Hypnogram.edf...\n",
      "Downloading SC4542F0-PSG.edf...\n",
      "Downloading SC4542FW-Hypnogram.edf...\n",
      "Downloading SC4551F0-PSG.edf...\n",
      "Downloading SC4551FC-Hypnogram.edf...\n",
      "Downloading SC4552F0-PSG.edf...\n",
      "Downloading SC4552FW-Hypnogram.edf...\n",
      "Downloading SC4561F0-PSG.edf...\n",
      "Downloading SC4561FJ-Hypnogram.edf...\n",
      "Downloading SC4562F0-PSG.edf...\n",
      "Downloading SC4562FJ-Hypnogram.edf...\n",
      "Downloading SC4571F0-PSG.edf...\n",
      "Downloading SC4571FV-Hypnogram.edf...\n",
      "Downloading SC4572F0-PSG.edf...\n",
      "Downloading SC4572FC-Hypnogram.edf...\n",
      "Downloading SC4581G0-PSG.edf...\n",
      "Downloading SC4581GM-Hypnogram.edf...\n",
      "Downloading SC4582G0-PSG.edf...\n",
      "Downloading SC4582GP-Hypnogram.edf...\n",
      "Downloading SC4591G0-PSG.edf...\n",
      "Downloading SC4591GY-Hypnogram.edf...\n",
      "Downloading SC4592G0-PSG.edf...\n",
      "Downloading SC4592GY-Hypnogram.edf...\n",
      "Downloading SC4601E0-PSG.edf...\n",
      "Downloading SC4601EC-Hypnogram.edf...\n",
      "Downloading SC4602E0-PSG.edf...\n",
      "Downloading SC4602EJ-Hypnogram.edf...\n",
      "Downloading SC4611E0-PSG.edf...\n",
      "Downloading SC4611EG-Hypnogram.edf...\n",
      "Downloading SC4612E0-PSG.edf...\n",
      "Downloading SC4612EA-Hypnogram.edf...\n"
     ]
    },
    {
     "name": "stdout",
     "output_type": "stream",
     "text": [
      "Downloading SC4621E0-PSG.edf...\n",
      "Downloading SC4621EV-Hypnogram.edf...\n",
      "Downloading SC4622E0-PSG.edf...\n",
      "Downloading SC4622EJ-Hypnogram.edf...\n",
      "Downloading SC4631E0-PSG.edf...\n",
      "Downloading SC4631EM-Hypnogram.edf...\n",
      "Downloading SC4632E0-PSG.edf...\n",
      "Downloading SC4632EA-Hypnogram.edf...\n",
      "Downloading SC4641E0-PSG.edf...\n",
      "Downloading SC4641EP-Hypnogram.edf...\n",
      "Downloading SC4642E0-PSG.edf...\n",
      "Downloading SC4642EP-Hypnogram.edf...\n",
      "Downloading SC4651E0-PSG.edf...\n",
      "Downloading SC4651EP-Hypnogram.edf...\n",
      "Downloading SC4652E0-PSG.edf...\n",
      "Downloading SC4652EG-Hypnogram.edf...\n",
      "Downloading SC4661E0-PSG.edf...\n",
      "Downloading SC4661EJ-Hypnogram.edf...\n",
      "Downloading SC4662E0-PSG.edf...\n",
      "Downloading SC4662EJ-Hypnogram.edf...\n",
      "Downloading SC4671G0-PSG.edf...\n",
      "Downloading SC4671GJ-Hypnogram.edf...\n",
      "Downloading SC4672G0-PSG.edf...\n",
      "Downloading SC4672GV-Hypnogram.edf...\n",
      "Downloading SC4701E0-PSG.edf...\n",
      "Downloading SC4701EC-Hypnogram.edf...\n",
      "Downloading SC4702E0-PSG.edf...\n",
      "Downloading SC4702EA-Hypnogram.edf...\n",
      "Downloading SC4711E0-PSG.edf...\n",
      "Downloading SC4711EC-Hypnogram.edf...\n",
      "Downloading SC4712E0-PSG.edf...\n",
      "Downloading SC4712EA-Hypnogram.edf...\n",
      "Downloading SC4721E0-PSG.edf...\n",
      "Downloading SC4721EC-Hypnogram.edf...\n",
      "Downloading SC4722E0-PSG.edf...\n",
      "Downloading SC4722EM-Hypnogram.edf...\n",
      "Downloading SC4731E0-PSG.edf...\n",
      "Downloading SC4731EM-Hypnogram.edf...\n",
      "Downloading SC4732E0-PSG.edf...\n",
      "Downloading SC4732EJ-Hypnogram.edf...\n",
      "Downloading SC4741E0-PSG.edf...\n",
      "Downloading SC4741EA-Hypnogram.edf...\n",
      "Downloading SC4742E0-PSG.edf...\n",
      "Downloading SC4742EC-Hypnogram.edf...\n",
      "Downloading SC4751E0-PSG.edf...\n",
      "Downloading SC4751EC-Hypnogram.edf...\n",
      "Downloading SC4752E0-PSG.edf...\n",
      "Downloading SC4752EM-Hypnogram.edf...\n",
      "Downloading SC4761E0-PSG.edf...\n",
      "Downloading SC4761EP-Hypnogram.edf...\n",
      "Downloading SC4762E0-PSG.edf...\n",
      "Downloading SC4762EG-Hypnogram.edf...\n",
      "Downloading SC4771G0-PSG.edf...\n",
      "Downloading SC4771GC-Hypnogram.edf...\n",
      "Downloading SC4772G0-PSG.edf...\n",
      "Downloading SC4772GC-Hypnogram.edf...\n",
      "Downloading SC4801G0-PSG.edf...\n",
      "Downloading SC4801GC-Hypnogram.edf...\n",
      "Downloading SC4802G0-PSG.edf...\n",
      "Downloading SC4802GV-Hypnogram.edf...\n",
      "Downloading SC4811G0-PSG.edf...\n",
      "Downloading SC4811GG-Hypnogram.edf...\n",
      "Downloading SC4812G0-PSG.edf...\n",
      "Downloading SC4812GV-Hypnogram.edf...\n",
      "Downloading SC4821G0-PSG.edf...\n",
      "Downloading SC4821GC-Hypnogram.edf...\n",
      "Downloading SC4822G0-PSG.edf...\n",
      "Downloading SC4822GC-Hypnogram.edf...\n",
      "Downloading ST7011J0-PSG.edf...\n",
      "Downloading ST7011JP-Hypnogram.edf...\n",
      "Downloading ST7012J0-PSG.edf...\n",
      "Downloading ST7012JP-Hypnogram.edf...\n",
      "Downloading ST7021J0-PSG.edf...\n",
      "Downloading ST7021JM-Hypnogram.edf...\n",
      "Downloading ST7022J0-PSG.edf...\n",
      "Downloading ST7022JM-Hypnogram.edf...\n",
      "Downloading ST7041J0-PSG.edf...\n",
      "Downloading ST7041JO-Hypnogram.edf...\n",
      "Downloading ST7042J0-PSG.edf...\n",
      "Downloading ST7042JO-Hypnogram.edf...\n",
      "Downloading ST7051J0-PSG.edf...\n",
      "Downloading ST7051JA-Hypnogram.edf...\n",
      "Downloading ST7052J0-PSG.edf...\n",
      "Downloading ST7052JA-Hypnogram.edf...\n",
      "Downloading ST7061J0-PSG.edf...\n",
      "Downloading ST7061JR-Hypnogram.edf...\n",
      "Downloading ST7062J0-PSG.edf...\n",
      "Downloading ST7062JR-Hypnogram.edf...\n",
      "Downloading ST7071J0-PSG.edf...\n",
      "Downloading ST7071JA-Hypnogram.edf...\n",
      "Downloading ST7072J0-PSG.edf...\n",
      "Downloading ST7072JA-Hypnogram.edf...\n",
      "Downloading ST7081J0-PSG.edf...\n",
      "Downloading ST7081JW-Hypnogram.edf...\n",
      "Downloading ST7082J0-PSG.edf...\n",
      "Downloading ST7082JW-Hypnogram.edf...\n",
      "Downloading ST7091J0-PSG.edf...\n",
      "Downloading ST7091JE-Hypnogram.edf...\n",
      "Downloading ST7092J0-PSG.edf...\n",
      "Downloading ST7092JE-Hypnogram.edf...\n",
      "Downloading ST7101J0-PSG.edf...\n",
      "Downloading ST7101JE-Hypnogram.edf...\n",
      "Downloading ST7102J0-PSG.edf...\n",
      "Downloading ST7102JE-Hypnogram.edf...\n",
      "Downloading ST7111J0-PSG.edf...\n",
      "Downloading ST7111JE-Hypnogram.edf...\n",
      "Downloading ST7112J0-PSG.edf...\n",
      "Downloading ST7112JE-Hypnogram.edf...\n",
      "Downloading ST7121J0-PSG.edf...\n",
      "Downloading ST7121JE-Hypnogram.edf...\n",
      "Downloading ST7122J0-PSG.edf...\n",
      "Downloading ST7122JE-Hypnogram.edf...\n",
      "Downloading ST7131J0-PSG.edf...\n",
      "Downloading ST7131JR-Hypnogram.edf...\n",
      "Downloading ST7132J0-PSG.edf...\n",
      "Downloading ST7132JR-Hypnogram.edf...\n",
      "Downloading ST7141J0-PSG.edf...\n",
      "Downloading ST7141JE-Hypnogram.edf...\n",
      "Downloading ST7142J0-PSG.edf...\n",
      "Downloading ST7142JE-Hypnogram.edf...\n",
      "Downloading ST7151J0-PSG.edf...\n",
      "Downloading ST7151JA-Hypnogram.edf...\n",
      "Downloading ST7152J0-PSG.edf...\n",
      "Downloading ST7152JA-Hypnogram.edf...\n",
      "Downloading ST7161J0-PSG.edf...\n",
      "Downloading ST7161JM-Hypnogram.edf...\n",
      "Downloading ST7162J0-PSG.edf...\n",
      "Downloading ST7162JM-Hypnogram.edf...\n",
      "Downloading ST7171J0-PSG.edf...\n",
      "Downloading ST7171JA-Hypnogram.edf...\n",
      "Downloading ST7172J0-PSG.edf...\n",
      "Downloading ST7172JA-Hypnogram.edf...\n",
      "Downloading ST7181J0-PSG.edf...\n",
      "Downloading ST7181JR-Hypnogram.edf...\n",
      "Downloading ST7182J0-PSG.edf...\n",
      "Downloading ST7182JR-Hypnogram.edf...\n",
      "Downloading ST7191J0-PSG.edf...\n",
      "Downloading ST7191JR-Hypnogram.edf...\n",
      "Downloading ST7192J0-PSG.edf...\n",
      "Downloading ST7192JR-Hypnogram.edf...\n",
      "Downloading ST7201J0-PSG.edf...\n",
      "Downloading ST7201JO-Hypnogram.edf...\n",
      "Downloading ST7202J0-PSG.edf...\n",
      "Downloading ST7202JO-Hypnogram.edf...\n",
      "Downloading ST7211J0-PSG.edf...\n",
      "Downloading ST7211JJ-Hypnogram.edf...\n",
      "Downloading ST7212J0-PSG.edf...\n",
      "Downloading ST7212JJ-Hypnogram.edf...\n",
      "Downloading ST7221J0-PSG.edf...\n",
      "Downloading ST7221JA-Hypnogram.edf...\n",
      "Downloading ST7222J0-PSG.edf...\n",
      "Downloading ST7222JA-Hypnogram.edf...\n",
      "Downloading ST7241J0-PSG.edf...\n",
      "Downloading ST7241JO-Hypnogram.edf...\n",
      "Downloading ST7242J0-PSG.edf...\n",
      "Downloading ST7242JO-Hypnogram.edf...\n"
     ]
    }
   ],
   "source": [
    "#make the data directory if it isn't already there\n",
    "if not os.path.exists(data_dir):\n",
    "    os.makedirs(data_dir)\n",
    "\n",
    "#get a list of records and remove newlines\n",
    "with open('RECORDS.txt') as f: records = f.readlines()\n",
    "record_names = [r.strip() for r in records]\n",
    "\n",
    "labeled_data = []\n",
    "#read each record from the database\n",
    "for record_name in record_names:\n",
    "    if record_name.startswith('SC'):\n",
    "        file_url = '%ssleep-cassette/%s' % (data_url, record_name)\n",
    "    else:\n",
    "        file_url = '%ssleep-telemetry/%s' % (data_url, record_name)\n",
    "\n",
    "    #define the filepath\n",
    "    filepath = '%s%s' % (data_dir, record_name)\n",
    "\n",
    "    #download the file if it isn't already downloaded\n",
    "    if not os.path.exists(filepath):\n",
    "        print('Downloading %s...' % record_name)\n",
    "        urllib.request.urlretrieve(file_url, filepath)\n"
   ]
  },
  {
   "cell_type": "markdown",
   "metadata": {},
   "source": [
    "Parse through the data and save as pickle files"
   ]
  },
  {
   "cell_type": "code",
   "execution_count": 4,
   "metadata": {
    "scrolled": false
   },
   "outputs": [
    {
     "name": "stderr",
     "output_type": "stream",
     "text": [
      "Reading Channels:  20%|██        | 1/5 [00:00<00:01,  3.35it/s]"
     ]
    },
    {
     "name": "stdout",
     "output_type": "stream",
     "text": [
      "data/ST7152JA-Hypnogram.edf\n"
     ]
    },
    {
     "name": "stderr",
     "output_type": "stream",
     "text": [
      "Reading Channels: 100%|██████████| 5/5 [00:01<00:00,  4.24it/s]\n",
      "Reading Channels: 0it [00:00, ?it/s]\n"
     ]
    },
    {
     "data": {
      "image/png": "[encoded data removed]",
      "text/plain": [
       "<Figure size 720x432 with 3 Axes>"
      ]
     },
     "metadata": {
      "needs_background": "light"
     },
     "output_type": "display_data"
    },
    {
     "name": "stderr",
     "output_type": "stream",
     "text": [
      "\r",
      "Reading Channels:   0%|          | 0/7 [00:00<?, ?it/s]"
     ]
    },
    {
     "name": "stdout",
     "output_type": "stream",
     "text": [
      "data/SC4411EJ-Hypnogram.edf\n"
     ]
    },
    {
     "name": "stderr",
     "output_type": "stream",
     "text": [
      "Reading Channels: 100%|██████████| 7/7 [00:03<00:00,  2.10it/s]\n",
      "Reading Channels: 0it [00:00, ?it/s]\n",
      "Reading Channels:   0%|          | 0/7 [00:00<?, ?it/s]"
     ]
    },
    {
     "name": "stdout",
     "output_type": "stream",
     "text": [
      "data/SC4611EG-Hypnogram.edf\n"
     ]
    },
    {
     "name": "stderr",
     "output_type": "stream",
     "text": [
      "Reading Channels: 100%|██████████| 7/7 [00:03<00:00,  2.20it/s]\n",
      "Reading Channels: 0it [00:00, ?it/s]\n",
      "Reading Channels:   0%|          | 0/7 [00:00<?, ?it/s]"
     ]
    },
    {
     "name": "stdout",
     "output_type": "stream",
     "text": [
      "data/SC4141EU-Hypnogram.edf\n"
     ]
    },
    {
     "name": "stderr",
     "output_type": "stream",
     "text": [
      "Reading Channels: 100%|██████████| 7/7 [00:03<00:00,  2.15it/s]\n",
      "Reading Channels: 0it [00:00, ?it/s]\n",
      "Reading Channels:   0%|          | 0/7 [00:00<?, ?it/s]"
     ]
    },
    {
     "name": "stdout",
     "output_type": "stream",
     "text": [
      "data/SC4662EJ-Hypnogram.edf\n"
     ]
    },
    {
     "name": "stderr",
     "output_type": "stream",
     "text": [
      "Reading Channels: 100%|██████████| 7/7 [00:03<00:00,  2.18it/s]\n",
      "Reading Channels: 0it [00:00, ?it/s]\n",
      "Reading Channels:   0%|          | 0/7 [00:00<?, ?it/s]"
     ]
    },
    {
     "name": "stdout",
     "output_type": "stream",
     "text": [
      "data/SC4401EC-Hypnogram.edf\n"
     ]
    },
    {
     "name": "stderr",
     "output_type": "stream",
     "text": [
      "Reading Channels: 100%|██████████| 7/7 [00:03<00:00,  2.28it/s]\n",
      "Reading Channels: 0it [00:00, ?it/s]\n",
      "Reading Channels:  20%|██        | 1/5 [00:00<00:01,  3.16it/s]"
     ]
    },
    {
     "name": "stdout",
     "output_type": "stream",
     "text": [
      "data/ST7012JP-Hypnogram.edf\n"
     ]
    },
    {
     "name": "stderr",
     "output_type": "stream",
     "text": [
      "Reading Channels: 100%|██████████| 5/5 [00:01<00:00,  4.17it/s]\n",
      "Reading Channels: 0it [00:00, ?it/s]\n",
      "Reading Channels:   0%|          | 0/7 [00:00<?, ?it/s]"
     ]
    },
    {
     "name": "stdout",
     "output_type": "stream",
     "text": [
      "data/SC4462FJ-Hypnogram.edf\n"
     ]
    },
    {
     "name": "stderr",
     "output_type": "stream",
     "text": [
      "Reading Channels: 100%|██████████| 7/7 [00:03<00:00,  1.91it/s]\n",
      "Reading Channels: 0it [00:00, ?it/s]\n",
      "Reading Channels:   0%|          | 0/7 [00:00<?, ?it/s]"
     ]
    },
    {
     "name": "stdout",
     "output_type": "stream",
     "text": [
      "data/SC4432EM-Hypnogram.edf\n"
     ]
    },
    {
     "name": "stderr",
     "output_type": "stream",
     "text": [
      "Reading Channels: 100%|██████████| 7/7 [00:03<00:00,  2.00it/s]\n",
      "Reading Channels: 0it [00:00, ?it/s]\n",
      "Reading Channels:   0%|          | 0/7 [00:00<?, ?it/s]"
     ]
    },
    {
     "name": "stdout",
     "output_type": "stream",
     "text": [
      "data/SC4542FW-Hypnogram.edf\n"
     ]
    },
    {
     "name": "stderr",
     "output_type": "stream",
     "text": [
      "Reading Channels: 100%|██████████| 7/7 [00:03<00:00,  2.09it/s]\n",
      "Reading Channels: 0it [00:00, ?it/s]\n",
      "Reading Channels:   0%|          | 0/7 [00:00<?, ?it/s]"
     ]
    },
    {
     "name": "stdout",
     "output_type": "stream",
     "text": [
      "data/SC4821GC-Hypnogram.edf\n"
     ]
    },
    {
     "name": "stderr",
     "output_type": "stream",
     "text": [
      "Reading Channels: 100%|██████████| 7/7 [00:03<00:00,  1.83it/s]\n",
      "Reading Channels: 0it [00:00, ?it/s]\n",
      "Reading Channels:   0%|          | 0/7 [00:00<?, ?it/s]"
     ]
    },
    {
     "name": "stdout",
     "output_type": "stream",
     "text": [
      "data/SC4272FM-Hypnogram.edf\n"
     ]
    },
    {
     "name": "stderr",
     "output_type": "stream",
     "text": [
      "Reading Channels: 100%|██████████| 7/7 [00:03<00:00,  1.85it/s]\n",
      "Reading Channels: 0it [00:00, ?it/s]\n",
      "Reading Channels:   0%|          | 0/7 [00:00<?, ?it/s]"
     ]
    },
    {
     "name": "stdout",
     "output_type": "stream",
     "text": [
      "data/SC4041EC-Hypnogram.edf\n"
     ]
    },
    {
     "name": "stderr",
     "output_type": "stream",
     "text": [
      "Reading Channels: 100%|██████████| 7/7 [00:02<00:00,  2.36it/s]\n",
      "Reading Channels: 0it [00:00, ?it/s]\n",
      "Reading Channels:   0%|          | 0/7 [00:00<?, ?it/s]"
     ]
    },
    {
     "name": "stdout",
     "output_type": "stream",
     "text": [
      "data/SC4761EP-Hypnogram.edf\n"
     ]
    },
    {
     "name": "stderr",
     "output_type": "stream",
     "text": [
      "Reading Channels: 100%|██████████| 7/7 [00:03<00:00,  2.21it/s]\n",
      "Reading Channels: 0it [00:00, ?it/s]\n",
      "Reading Channels:  20%|██        | 1/5 [00:00<00:01,  3.55it/s]"
     ]
    },
    {
     "name": "stdout",
     "output_type": "stream",
     "text": [
      "data/ST7071JA-Hypnogram.edf\n"
     ]
    },
    {
     "name": "stderr",
     "output_type": "stream",
     "text": [
      "Reading Channels: 100%|██████████| 5/5 [00:01<00:00,  4.79it/s]\n",
      "Reading Channels:   0%|          | 0/7 [00:00<?, ?it/s]"
     ]
    },
    {
     "name": "stdout",
     "output_type": "stream",
     "text": [
      "data/ST7071JA-Hypnogram.edf: the file is not EDF(+) or BDF(+) compliant (EDF+ Recordingfield)\n",
      "data/SC4092EC-Hypnogram.edf\n"
     ]
    },
    {
     "name": "stderr",
     "output_type": "stream",
     "text": [
      "Reading Channels: 100%|██████████| 7/7 [00:03<00:00,  1.96it/s]\n",
      "Reading Channels: 0it [00:00, ?it/s]\n",
      "Reading Channels:   0%|          | 0/7 [00:00<?, ?it/s]"
     ]
    },
    {
     "name": "stdout",
     "output_type": "stream",
     "text": [
      "data/SC4232EV-Hypnogram.edf\n"
     ]
    },
    {
     "name": "stderr",
     "output_type": "stream",
     "text": [
      "Reading Channels: 100%|██████████| 7/7 [00:03<00:00,  1.94it/s]\n",
      "Reading Channels: 0it [00:00, ?it/s]\n",
      "Reading Channels:   0%|          | 0/7 [00:00<?, ?it/s]"
     ]
    },
    {
     "name": "stdout",
     "output_type": "stream",
     "text": [
      "data/SC4751EC-Hypnogram.edf\n"
     ]
    },
    {
     "name": "stderr",
     "output_type": "stream",
     "text": [
      "Reading Channels: 100%|██████████| 7/7 [00:03<00:00,  2.19it/s]\n",
      "Reading Channels: 0it [00:00, ?it/s]\n",
      "Reading Channels:   0%|          | 0/7 [00:00<?, ?it/s]"
     ]
    },
    {
     "name": "stdout",
     "output_type": "stream",
     "text": [
      "data/SC4362FC-Hypnogram.edf\n"
     ]
    },
    {
     "name": "stderr",
     "output_type": "stream",
     "text": [
      "Reading Channels: 100%|██████████| 7/7 [00:02<00:00,  3.32it/s]\n",
      "Reading Channels: 0it [00:00, ?it/s]\n",
      "Reading Channels:   0%|          | 0/5 [00:00<?, ?it/s]"
     ]
    },
    {
     "name": "stdout",
     "output_type": "stream",
     "text": [
      "data/ST7081JW-Hypnogram.edf\n"
     ]
    },
    {
     "name": "stderr",
     "output_type": "stream",
     "text": [
      "Reading Channels: 100%|██████████| 5/5 [00:01<00:00,  4.58it/s]\n",
      "Reading Channels: 0it [00:00, ?it/s]\n",
      "Reading Channels:   0%|          | 0/7 [00:00<?, ?it/s]"
     ]
    },
    {
     "name": "stdout",
     "output_type": "stream",
     "text": [
      "data/SC4101EC-Hypnogram.edf\n"
     ]
    },
    {
     "name": "stderr",
     "output_type": "stream",
     "text": [
      "Reading Channels: 100%|██████████| 7/7 [00:03<00:00,  2.11it/s]\n",
      "Reading Channels: 0it [00:00, ?it/s]\n",
      "Reading Channels:   0%|          | 0/7 [00:00<?, ?it/s]"
     ]
    },
    {
     "name": "stdout",
     "output_type": "stream",
     "text": [
      "data/SC4702EA-Hypnogram.edf\n"
     ]
    },
    {
     "name": "stderr",
     "output_type": "stream",
     "text": [
      "Reading Channels: 100%|██████████| 7/7 [00:03<00:00,  1.99it/s]\n",
      "Reading Channels: 0it [00:00, ?it/s]\n",
      "Reading Channels:   0%|          | 0/7 [00:00<?, ?it/s]"
     ]
    },
    {
     "name": "stdout",
     "output_type": "stream",
     "text": [
      "data/SC4311EC-Hypnogram.edf\n"
     ]
    },
    {
     "name": "stderr",
     "output_type": "stream",
     "text": [
      "Reading Channels: 100%|██████████| 7/7 [00:03<00:00,  2.01it/s]\n",
      "Reading Channels: 0it [00:00, ?it/s]\n",
      "Reading Channels:   0%|          | 0/7 [00:00<?, ?it/s]"
     ]
    },
    {
     "name": "stdout",
     "output_type": "stream",
     "text": [
      "data/SC4492GJ-Hypnogram.edf\n"
     ]
    },
    {
     "name": "stderr",
     "output_type": "stream",
     "text": [
      "Reading Channels: 100%|██████████| 7/7 [00:02<00:00,  2.77it/s]\n",
      "Reading Channels: 0it [00:00, ?it/s]\n",
      "Reading Channels:   0%|          | 0/7 [00:00<?, ?it/s]"
     ]
    },
    {
     "name": "stdout",
     "output_type": "stream",
     "text": [
      "data/SC4162EC-Hypnogram.edf\n"
     ]
    },
    {
     "name": "stderr",
     "output_type": "stream",
     "text": [
      "Reading Channels: 100%|██████████| 7/7 [00:03<00:00,  2.02it/s]\n",
      "Reading Channels: 0it [00:00, ?it/s]\n",
      "Reading Channels:   0%|          | 0/7 [00:00<?, ?it/s]"
     ]
    },
    {
     "name": "stdout",
     "output_type": "stream",
     "text": [
      "data/SC4551FC-Hypnogram.edf\n"
     ]
    },
    {
     "name": "stderr",
     "output_type": "stream",
     "text": [
      "Reading Channels: 100%|██████████| 7/7 [00:03<00:00,  2.16it/s]\n",
      "Reading Channels: 0it [00:00, ?it/s]\n",
      "Reading Channels:   0%|          | 0/5 [00:00<?, ?it/s]"
     ]
    },
    {
     "name": "stdout",
     "output_type": "stream",
     "text": [
      "data/ST7042JO-Hypnogram.edf\n"
     ]
    },
    {
     "name": "stderr",
     "output_type": "stream",
     "text": [
      "Reading Channels: 100%|██████████| 5/5 [00:01<00:00,  3.86it/s]\n",
      "Reading Channels: 0it [00:00, ?it/s]\n",
      "Reading Channels:   0%|          | 0/7 [00:00<?, ?it/s]"
     ]
    },
    {
     "name": "stdout",
     "output_type": "stream",
     "text": [
      "data/SC4642EP-Hypnogram.edf\n"
     ]
    },
    {
     "name": "stderr",
     "output_type": "stream",
     "text": [
      "Reading Channels: 100%|██████████| 7/7 [00:03<00:00,  2.02it/s]\n",
      "Reading Channels: 0it [00:00, ?it/s]\n",
      "Reading Channels:   0%|          | 0/7 [00:00<?, ?it/s]"
     ]
    },
    {
     "name": "stdout",
     "output_type": "stream",
     "text": [
      "data/SC4511EJ-Hypnogram.edf\n"
     ]
    },
    {
     "name": "stderr",
     "output_type": "stream",
     "text": [
      "Reading Channels: 100%|██████████| 7/7 [00:03<00:00,  2.04it/s]\n",
      "Reading Channels: 0it [00:00, ?it/s]\n",
      "Reading Channels:   0%|          | 0/5 [00:00<?, ?it/s]"
     ]
    },
    {
     "name": "stdout",
     "output_type": "stream",
     "text": [
      "data/ST7052JA-Hypnogram.edf\n"
     ]
    },
    {
     "name": "stderr",
     "output_type": "stream",
     "text": [
      "Reading Channels: 100%|██████████| 5/5 [00:01<00:00,  4.07it/s]\n",
      "Reading Channels: 0it [00:00, ?it/s]\n",
      "Reading Channels:   0%|          | 0/7 [00:00<?, ?it/s]"
     ]
    },
    {
     "name": "stdout",
     "output_type": "stream",
     "text": [
      "data/SC4802GV-Hypnogram.edf\n"
     ]
    },
    {
     "name": "stderr",
     "output_type": "stream",
     "text": [
      "Reading Channels: 100%|██████████| 7/7 [00:04<00:00,  1.68it/s]\n",
      "Reading Channels: 0it [00:00, ?it/s]\n",
      "Reading Channels:   0%|          | 0/5 [00:00<?, ?it/s]"
     ]
    },
    {
     "name": "stdout",
     "output_type": "stream",
     "text": [
      "data/ST7221JA-Hypnogram.edf\n"
     ]
    },
    {
     "name": "stderr",
     "output_type": "stream",
     "text": [
      "Reading Channels: 100%|██████████| 5/5 [00:01<00:00,  4.06it/s]\n",
      "Reading Channels: 0it [00:00, ?it/s]\n",
      "Reading Channels:   0%|          | 0/7 [00:00<?, ?it/s]"
     ]
    },
    {
     "name": "stdout",
     "output_type": "stream",
     "text": [
      "data/SC4722EM-Hypnogram.edf\n"
     ]
    },
    {
     "name": "stderr",
     "output_type": "stream",
     "text": [
      "Reading Channels: 100%|██████████| 7/7 [00:03<00:00,  2.14it/s]\n",
      "Reading Channels: 0it [00:00, ?it/s]\n",
      "Reading Channels:   0%|          | 0/7 [00:00<?, ?it/s]"
     ]
    },
    {
     "name": "stdout",
     "output_type": "stream",
     "text": [
      "data/SC4292GC-Hypnogram.edf\n"
     ]
    },
    {
     "name": "stderr",
     "output_type": "stream",
     "text": [
      "Reading Channels: 100%|██████████| 7/7 [00:03<00:00,  2.01it/s]\n",
      "Reading Channels: 0it [00:00, ?it/s]\n",
      "Reading Channels:   0%|          | 0/7 [00:00<?, ?it/s]"
     ]
    },
    {
     "name": "stdout",
     "output_type": "stream",
     "text": [
      "data/SC4192EV-Hypnogram.edf\n"
     ]
    },
    {
     "name": "stderr",
     "output_type": "stream",
     "text": [
      "Reading Channels: 100%|██████████| 7/7 [00:03<00:00,  2.06it/s]\n",
      "Reading Channels: 0it [00:00, ?it/s]\n",
      "Reading Channels:   0%|          | 0/7 [00:00<?, ?it/s]"
     ]
    },
    {
     "name": "stdout",
     "output_type": "stream",
     "text": [
      "data/SC4562FJ-Hypnogram.edf\n"
     ]
    },
    {
     "name": "stderr",
     "output_type": "stream",
     "text": [
      "Reading Channels: 100%|██████████| 7/7 [00:03<00:00,  2.09it/s]\n",
      "Reading Channels: 0it [00:00, ?it/s]\n",
      "Reading Channels:   0%|          | 0/7 [00:00<?, ?it/s]"
     ]
    },
    {
     "name": "stdout",
     "output_type": "stream",
     "text": [
      "data/SC4711EC-Hypnogram.edf\n"
     ]
    },
    {
     "name": "stderr",
     "output_type": "stream",
     "text": [
      "Reading Channels: 100%|██████████| 7/7 [00:03<00:00,  2.10it/s]\n",
      "Reading Channels: 0it [00:00, ?it/s]\n",
      "Reading Channels:   0%|          | 0/7 [00:00<?, ?it/s]"
     ]
    },
    {
     "name": "stdout",
     "output_type": "stream",
     "text": [
      "data/SC4371FA-Hypnogram.edf\n"
     ]
    },
    {
     "name": "stderr",
     "output_type": "stream",
     "text": [
      "Reading Channels: 100%|██████████| 7/7 [00:03<00:00,  2.10it/s]\n",
      "Reading Channels: 0it [00:00, ?it/s]\n",
      "Reading Channels:  14%|█▍        | 1/7 [00:02<00:12,  2.07s/it]"
     ]
    },
    {
     "name": "stdout",
     "output_type": "stream",
     "text": [
      "data/SC4572FC-Hypnogram.edf\n"
     ]
    },
    {
     "name": "stderr",
     "output_type": "stream",
     "text": [
      "Reading Channels: 100%|██████████| 7/7 [00:03<00:00,  1.88it/s]\n",
      "Reading Channels: 0it [00:00, ?it/s]\n",
      "Reading Channels:   0%|          | 0/7 [00:00<?, ?it/s]"
     ]
    },
    {
     "name": "stdout",
     "output_type": "stream",
     "text": [
      "data/SC4461FA-Hypnogram.edf\n"
     ]
    },
    {
     "name": "stderr",
     "output_type": "stream",
     "text": [
      "Reading Channels: 100%|██████████| 7/7 [00:03<00:00,  1.87it/s]\n",
      "Reading Channels: 0it [00:00, ?it/s]\n",
      "Reading Channels:   0%|          | 0/5 [00:00<?, ?it/s]"
     ]
    },
    {
     "name": "stdout",
     "output_type": "stream",
     "text": [
      "data/ST7171JA-Hypnogram.edf\n"
     ]
    },
    {
     "name": "stderr",
     "output_type": "stream",
     "text": [
      "Reading Channels: 100%|██████████| 5/5 [00:01<00:00,  4.60it/s]\n",
      "Reading Channels: 0it [00:00, ?it/s]\n",
      "Reading Channels:   0%|          | 0/5 [00:00<?, ?it/s]"
     ]
    },
    {
     "name": "stdout",
     "output_type": "stream",
     "text": [
      "data/ST7112JE-Hypnogram.edf\n"
     ]
    },
    {
     "name": "stderr",
     "output_type": "stream",
     "text": [
      "Reading Channels: 100%|██████████| 5/5 [00:01<00:00,  4.20it/s]\n",
      "Reading Channels: 0it [00:00, ?it/s]\n",
      "Reading Channels:   0%|          | 0/5 [00:00<?, ?it/s]"
     ]
    },
    {
     "name": "stdout",
     "output_type": "stream",
     "text": [
      "data/ST7192JR-Hypnogram.edf\n"
     ]
    },
    {
     "name": "stderr",
     "output_type": "stream",
     "text": [
      "Reading Channels: 100%|██████████| 5/5 [00:01<00:00,  3.94it/s]\n",
      "Reading Channels: 0it [00:00, ?it/s]\n",
      "Reading Channels:   0%|          | 0/7 [00:00<?, ?it/s]"
     ]
    },
    {
     "name": "stdout",
     "output_type": "stream",
     "text": [
      "data/SC4512EW-Hypnogram.edf\n"
     ]
    },
    {
     "name": "stderr",
     "output_type": "stream",
     "text": [
      "Reading Channels: 100%|██████████| 7/7 [00:03<00:00,  2.01it/s]\n",
      "Reading Channels: 0it [00:00, ?it/s]\n",
      "Reading Channels:   0%|          | 0/7 [00:00<?, ?it/s]"
     ]
    },
    {
     "name": "stdout",
     "output_type": "stream",
     "text": [
      "data/SC4262FC-Hypnogram.edf\n"
     ]
    },
    {
     "name": "stderr",
     "output_type": "stream",
     "text": [
      "Reading Channels: 100%|██████████| 7/7 [00:03<00:00,  1.89it/s]\n",
      "Reading Channels: 0it [00:00, ?it/s]\n",
      "Reading Channels:   0%|          | 0/7 [00:00<?, ?it/s]"
     ]
    },
    {
     "name": "stdout",
     "output_type": "stream",
     "text": [
      "data/SC4001EC-Hypnogram.edf\n"
     ]
    },
    {
     "name": "stderr",
     "output_type": "stream",
     "text": [
      "Reading Channels: 100%|██████████| 7/7 [00:03<00:00,  2.25it/s]\n",
      "Reading Channels: 0it [00:00, ?it/s]\n",
      "Reading Channels:   0%|          | 0/7 [00:00<?, ?it/s]"
     ]
    },
    {
     "name": "stdout",
     "output_type": "stream",
     "text": [
      "data/SC4211EC-Hypnogram.edf\n"
     ]
    },
    {
     "name": "stderr",
     "output_type": "stream",
     "text": [
      "Reading Channels: 100%|██████████| 7/7 [00:03<00:00,  2.02it/s]\n",
      "Reading Channels: 0it [00:00, ?it/s]\n",
      "Reading Channels:   0%|          | 0/7 [00:00<?, ?it/s]"
     ]
    },
    {
     "name": "stdout",
     "output_type": "stream",
     "text": [
      "data/SC4441EC-Hypnogram.edf\n"
     ]
    },
    {
     "name": "stderr",
     "output_type": "stream",
     "text": [
      "Reading Channels: 100%|██████████| 7/7 [00:03<00:00,  2.05it/s]\n",
      "Reading Channels: 0it [00:00, ?it/s]\n",
      "Reading Channels:   0%|          | 0/7 [00:00<?, ?it/s]"
     ]
    },
    {
     "name": "stdout",
     "output_type": "stream",
     "text": [
      "data/SC4122EV-Hypnogram.edf\n"
     ]
    },
    {
     "name": "stderr",
     "output_type": "stream",
     "text": [
      "Reading Channels: 100%|██████████| 7/7 [00:03<00:00,  2.26it/s]\n",
      "Reading Channels: 0it [00:00, ?it/s]\n",
      "Reading Channels:  20%|██        | 1/5 [00:00<00:01,  3.05it/s]"
     ]
    },
    {
     "name": "stdout",
     "output_type": "stream",
     "text": [
      "data/ST7062JR-Hypnogram.edf\n"
     ]
    },
    {
     "name": "stderr",
     "output_type": "stream",
     "text": [
      "Reading Channels: 100%|██████████| 5/5 [00:01<00:00,  4.08it/s]\n",
      "Reading Channels: 0it [00:00, ?it/s]\n",
      "Reading Channels:   0%|          | 0/7 [00:00<?, ?it/s]"
     ]
    },
    {
     "name": "stdout",
     "output_type": "stream",
     "text": [
      "data/SC4021EH-Hypnogram.edf\n"
     ]
    },
    {
     "name": "stderr",
     "output_type": "stream",
     "text": [
      "Reading Channels: 100%|██████████| 7/7 [00:03<00:00,  2.00it/s]\n",
      "Reading Channels: 0it [00:00, ?it/s]\n",
      "Reading Channels:   0%|          | 0/7 [00:00<?, ?it/s]"
     ]
    },
    {
     "name": "stdout",
     "output_type": "stream",
     "text": [
      "data/SC4062EC-Hypnogram.edf\n"
     ]
    },
    {
     "name": "stderr",
     "output_type": "stream",
     "text": [
      "Reading Channels: 100%|██████████| 7/7 [00:03<00:00,  1.93it/s]\n",
      "Reading Channels: 0it [00:00, ?it/s]\n",
      "Reading Channels:   0%|          | 0/7 [00:00<?, ?it/s]"
     ]
    },
    {
     "name": "stdout",
     "output_type": "stream",
     "text": [
      "data/SC4622EJ-Hypnogram.edf\n"
     ]
    },
    {
     "name": "stderr",
     "output_type": "stream",
     "text": [
      "Reading Channels: 100%|██████████| 7/7 [00:03<00:00,  1.94it/s]\n",
      "Reading Channels: 0it [00:00, ?it/s]\n",
      "Reading Channels:   0%|          | 0/7 [00:00<?, ?it/s]"
     ]
    },
    {
     "name": "stdout",
     "output_type": "stream",
     "text": [
      "data/SC4242EA-Hypnogram.edf\n"
     ]
    },
    {
     "name": "stderr",
     "output_type": "stream",
     "text": [
      "Reading Channels: 100%|██████████| 7/7 [00:03<00:00,  1.97it/s]\n",
      "Reading Channels: 0it [00:00, ?it/s]\n",
      "Reading Channels:   0%|          | 0/7 [00:00<?, ?it/s]"
     ]
    },
    {
     "name": "stdout",
     "output_type": "stream",
     "text": [
      "data/SC4532EV-Hypnogram.edf\n"
     ]
    },
    {
     "name": "stderr",
     "output_type": "stream",
     "text": [
      "Reading Channels: 100%|██████████| 7/7 [00:03<00:00,  2.15it/s]\n",
      "Reading Channels: 0it [00:00, ?it/s]\n",
      "Reading Channels:   0%|          | 0/7 [00:00<?, ?it/s]"
     ]
    },
    {
     "name": "stdout",
     "output_type": "stream",
     "text": [
      "data/SC4051EC-Hypnogram.edf\n"
     ]
    },
    {
     "name": "stderr",
     "output_type": "stream",
     "text": [
      "Reading Channels: 100%|██████████| 7/7 [00:03<00:00,  2.06it/s]\n",
      "Reading Channels: 0it [00:00, ?it/s]\n",
      "Reading Channels:  20%|██        | 1/5 [00:00<00:01,  3.50it/s]"
     ]
    },
    {
     "name": "stdout",
     "output_type": "stream",
     "text": [
      "data/ST7142JE-Hypnogram.edf\n"
     ]
    },
    {
     "name": "stderr",
     "output_type": "stream",
     "text": [
      "Reading Channels: 100%|██████████| 5/5 [00:01<00:00,  4.84it/s]\n",
      "Reading Channels:   0%|          | 0/7 [00:00<?, ?it/s]"
     ]
    },
    {
     "name": "stdout",
     "output_type": "stream",
     "text": [
      "data/ST7142JE-Hypnogram.edf: the file is not EDF(+) or BDF(+) compliant (EDF+ Recordingfield)\n",
      "data/SC4222EC-Hypnogram.edf\n"
     ]
    },
    {
     "name": "stderr",
     "output_type": "stream",
     "text": [
      "Reading Channels: 100%|██████████| 7/7 [00:03<00:00,  1.90it/s]\n",
      "Reading Channels: 0it [00:00, ?it/s]\n",
      "Reading Channels:   0%|          | 0/7 [00:00<?, ?it/s]"
     ]
    },
    {
     "name": "stdout",
     "output_type": "stream",
     "text": [
      "data/SC4552FW-Hypnogram.edf\n"
     ]
    },
    {
     "name": "stderr",
     "output_type": "stream",
     "text": [
      "Reading Channels: 100%|██████████| 7/7 [00:03<00:00,  1.97it/s]\n",
      "Reading Channels: 0it [00:00, ?it/s]\n",
      "Reading Channels:   0%|          | 0/7 [00:00<?, ?it/s]"
     ]
    },
    {
     "name": "stdout",
     "output_type": "stream",
     "text": [
      "data/SC4601EC-Hypnogram.edf\n"
     ]
    },
    {
     "name": "stderr",
     "output_type": "stream",
     "text": [
      "Reading Channels: 100%|██████████| 7/7 [00:03<00:00,  1.90it/s]\n",
      "Reading Channels: 0it [00:00, ?it/s]\n",
      "Reading Channels:   0%|          | 0/7 [00:00<?, ?it/s]"
     ]
    },
    {
     "name": "stdout",
     "output_type": "stream",
     "text": [
      "data/SC4421EA-Hypnogram.edf\n"
     ]
    },
    {
     "name": "stderr",
     "output_type": "stream",
     "text": [
      "Reading Channels: 100%|██████████| 7/7 [00:03<00:00,  1.92it/s]\n",
      "Reading Channels: 0it [00:00, ?it/s]\n",
      "Reading Channels:   0%|          | 0/7 [00:00<?, ?it/s]"
     ]
    },
    {
     "name": "stdout",
     "output_type": "stream",
     "text": [
      "data/SC4022EJ-Hypnogram.edf\n"
     ]
    },
    {
     "name": "stderr",
     "output_type": "stream",
     "text": [
      "Reading Channels: 100%|██████████| 7/7 [00:03<00:00,  2.05it/s]\n",
      "Reading Channels: 0it [00:00, ?it/s]\n",
      "Reading Channels:   0%|          | 0/5 [00:00<?, ?it/s]"
     ]
    },
    {
     "name": "stdout",
     "output_type": "stream",
     "text": [
      "data/ST7121JE-Hypnogram.edf\n"
     ]
    },
    {
     "name": "stderr",
     "output_type": "stream",
     "text": [
      "Reading Channels: 100%|██████████| 5/5 [00:01<00:00,  4.23it/s]\n",
      "Reading Channels: 0it [00:00, ?it/s]\n",
      "Reading Channels:   0%|          | 0/7 [00:00<?, ?it/s]"
     ]
    },
    {
     "name": "stdout",
     "output_type": "stream",
     "text": [
      "data/SC4241EC-Hypnogram.edf\n"
     ]
    },
    {
     "name": "stderr",
     "output_type": "stream",
     "text": [
      "Reading Channels: 100%|██████████| 7/7 [00:03<00:00,  2.10it/s]\n",
      "Reading Channels: 0it [00:00, ?it/s]\n",
      "Reading Channels:   0%|          | 0/7 [00:00<?, ?it/s]"
     ]
    },
    {
     "name": "stdout",
     "output_type": "stream",
     "text": [
      "data/SC4172EC-Hypnogram.edf\n"
     ]
    },
    {
     "name": "stderr",
     "output_type": "stream",
     "text": [
      "Reading Channels: 100%|██████████| 7/7 [00:03<00:00,  1.99it/s]\n",
      "Reading Channels: 0it [00:00, ?it/s]\n",
      "Reading Channels:   0%|          | 0/7 [00:00<?, ?it/s]"
     ]
    },
    {
     "name": "stdout",
     "output_type": "stream",
     "text": [
      "data/SC4732EJ-Hypnogram.edf\n"
     ]
    },
    {
     "name": "stderr",
     "output_type": "stream",
     "text": [
      "Reading Channels: 100%|██████████| 7/7 [00:03<00:00,  2.12it/s]\n",
      "Reading Channels: 0it [00:00, ?it/s]\n",
      "Reading Channels:   0%|          | 0/7 [00:00<?, ?it/s]"
     ]
    },
    {
     "name": "stdout",
     "output_type": "stream",
     "text": [
      "data/SC4191EP-Hypnogram.edf\n"
     ]
    },
    {
     "name": "stderr",
     "output_type": "stream",
     "text": [
      "Reading Channels: 100%|██████████| 7/7 [00:03<00:00,  1.97it/s]\n",
      "Reading Channels: 0it [00:00, ?it/s]\n",
      "Reading Channels:   0%|          | 0/7 [00:00<?, ?it/s]"
     ]
    },
    {
     "name": "stdout",
     "output_type": "stream",
     "text": [
      "data/SC4342FA-Hypnogram.edf\n"
     ]
    },
    {
     "name": "stderr",
     "output_type": "stream",
     "text": [
      "Reading Channels: 100%|██████████| 7/7 [00:03<00:00,  2.11it/s]\n",
      "Reading Channels: 0it [00:00, ?it/s]\n",
      "Reading Channels:   0%|          | 0/7 [00:00<?, ?it/s]"
     ]
    },
    {
     "name": "stdout",
     "output_type": "stream",
     "text": [
      "data/SC4301EC-Hypnogram.edf\n"
     ]
    },
    {
     "name": "stderr",
     "output_type": "stream",
     "text": [
      "Reading Channels: 100%|██████████| 7/7 [00:03<00:00,  2.20it/s]\n",
      "Reading Channels: 0it [00:00, ?it/s]\n",
      "Reading Channels:   0%|          | 0/7 [00:00<?, ?it/s]"
     ]
    },
    {
     "name": "stdout",
     "output_type": "stream",
     "text": [
      "data/SC4772GC-Hypnogram.edf\n"
     ]
    },
    {
     "name": "stderr",
     "output_type": "stream",
     "text": [
      "Reading Channels: 100%|██████████| 7/7 [00:02<00:00,  2.35it/s]\n",
      "Reading Channels: 0it [00:00, ?it/s]\n",
      "Reading Channels:   0%|          | 0/7 [00:00<?, ?it/s]"
     ]
    },
    {
     "name": "stdout",
     "output_type": "stream",
     "text": [
      "data/SC4291GA-Hypnogram.edf\n"
     ]
    },
    {
     "name": "stderr",
     "output_type": "stream",
     "text": [
      "Reading Channels: 100%|██████████| 7/7 [00:03<00:00,  2.06it/s]\n",
      "Reading Channels: 0it [00:00, ?it/s]\n",
      "Reading Channels:   0%|          | 0/7 [00:00<?, ?it/s]"
     ]
    },
    {
     "name": "stdout",
     "output_type": "stream",
     "text": [
      "data/SC4712EA-Hypnogram.edf\n"
     ]
    },
    {
     "name": "stderr",
     "output_type": "stream",
     "text": [
      "Reading Channels: 100%|██████████| 7/7 [00:03<00:00,  2.03it/s]\n",
      "Reading Channels: 0it [00:00, ?it/s]\n",
      "Reading Channels:   0%|          | 0/7 [00:00<?, ?it/s]"
     ]
    },
    {
     "name": "stdout",
     "output_type": "stream",
     "text": [
      "data/SC4111EC-Hypnogram.edf\n"
     ]
    },
    {
     "name": "stderr",
     "output_type": "stream",
     "text": [
      "Reading Channels: 100%|██████████| 7/7 [00:03<00:00,  2.08it/s]\n",
      "Reading Channels: 0it [00:00, ?it/s]\n",
      "Reading Channels:   0%|          | 0/7 [00:00<?, ?it/s]"
     ]
    },
    {
     "name": "stdout",
     "output_type": "stream",
     "text": [
      "data/SC4402EW-Hypnogram.edf\n"
     ]
    },
    {
     "name": "stderr",
     "output_type": "stream",
     "text": [
      "Reading Channels: 100%|██████████| 7/7 [00:03<00:00,  2.08it/s]\n",
      "Reading Channels: 0it [00:00, ?it/s]\n",
      "Reading Channels:   0%|          | 0/7 [00:00<?, ?it/s]"
     ]
    },
    {
     "name": "stdout",
     "output_type": "stream",
     "text": [
      "data/SC4372FC-Hypnogram.edf\n"
     ]
    },
    {
     "name": "stderr",
     "output_type": "stream",
     "text": [
      "Reading Channels: 100%|██████████| 7/7 [00:03<00:00,  1.83it/s]\n",
      "Reading Channels: 0it [00:00, ?it/s]\n",
      "Reading Channels:   0%|          | 0/7 [00:00<?, ?it/s]"
     ]
    },
    {
     "name": "stdout",
     "output_type": "stream",
     "text": [
      "data/SC4591GY-Hypnogram.edf\n"
     ]
    },
    {
     "name": "stderr",
     "output_type": "stream",
     "text": [
      "Reading Channels: 100%|██████████| 7/7 [00:03<00:00,  2.04it/s]\n",
      "Reading Channels: 0it [00:00, ?it/s]\n",
      "Reading Channels:   0%|          | 0/5 [00:00<?, ?it/s]"
     ]
    },
    {
     "name": "stdout",
     "output_type": "stream",
     "text": [
      "data/ST7242JO-Hypnogram.edf\n"
     ]
    },
    {
     "name": "stderr",
     "output_type": "stream",
     "text": [
      "Reading Channels: 100%|██████████| 5/5 [00:01<00:00,  4.45it/s]\n",
      "Reading Channels: 0it [00:00, ?it/s]\n",
      "Reading Channels:   0%|          | 0/7 [00:00<?, ?it/s]"
     ]
    },
    {
     "name": "stdout",
     "output_type": "stream",
     "text": [
      "data/SC4151EC-Hypnogram.edf\n"
     ]
    },
    {
     "name": "stderr",
     "output_type": "stream",
     "text": [
      "Reading Channels: 100%|██████████| 7/7 [00:03<00:00,  1.98it/s]\n",
      "Reading Channels: 0it [00:00, ?it/s]\n",
      "Reading Channels:  20%|██        | 1/5 [00:00<00:01,  3.06it/s]"
     ]
    },
    {
     "name": "stdout",
     "output_type": "stream",
     "text": [
      "data/ST7211JJ-Hypnogram.edf\n"
     ]
    },
    {
     "name": "stderr",
     "output_type": "stream",
     "text": [
      "Reading Channels: 100%|██████████| 5/5 [00:01<00:00,  4.10it/s]\n",
      "Reading Channels: 0it [00:00, ?it/s]\n",
      "Reading Channels:   0%|          | 0/7 [00:00<?, ?it/s]"
     ]
    },
    {
     "name": "stdout",
     "output_type": "stream",
     "text": [
      "data/SC4452FW-Hypnogram.edf\n"
     ]
    },
    {
     "name": "stderr",
     "output_type": "stream",
     "text": [
      "Reading Channels: 100%|██████████| 7/7 [00:03<00:00,  2.00it/s]\n",
      "Reading Channels: 0it [00:00, ?it/s]\n",
      "Reading Channels:   0%|          | 0/7 [00:00<?, ?it/s]"
     ]
    },
    {
     "name": "stdout",
     "output_type": "stream",
     "text": [
      "data/SC4322EC-Hypnogram.edf\n"
     ]
    },
    {
     "name": "stderr",
     "output_type": "stream",
     "text": [
      "Reading Channels: 100%|██████████| 7/7 [00:03<00:00,  2.18it/s]\n",
      "Reading Channels: 0it [00:00, ?it/s]\n",
      "Reading Channels:   0%|          | 0/5 [00:00<?, ?it/s]"
     ]
    },
    {
     "name": "stdout",
     "output_type": "stream",
     "text": [
      "data/ST7022JM-Hypnogram.edf\n"
     ]
    },
    {
     "name": "stderr",
     "output_type": "stream",
     "text": [
      "Reading Channels: 100%|██████████| 5/5 [00:01<00:00,  4.31it/s]\n",
      "Reading Channels: 0it [00:00, ?it/s]\n",
      "Reading Channels:   0%|          | 0/5 [00:00<?, ?it/s]"
     ]
    },
    {
     "name": "stdout",
     "output_type": "stream",
     "text": [
      "data/ST7202JO-Hypnogram.edf\n"
     ]
    },
    {
     "name": "stderr",
     "output_type": "stream",
     "text": [
      "Reading Channels: 100%|██████████| 5/5 [00:01<00:00,  4.43it/s]\n",
      "Reading Channels: 0it [00:00, ?it/s]\n",
      "Reading Channels:   0%|          | 0/7 [00:00<?, ?it/s]"
     ]
    },
    {
     "name": "stdout",
     "output_type": "stream",
     "text": [
      "data/SC4701EC-Hypnogram.edf\n"
     ]
    },
    {
     "name": "stderr",
     "output_type": "stream",
     "text": [
      "Reading Channels: 100%|██████████| 7/7 [00:03<00:00,  2.06it/s]\n",
      "Reading Channels: 0it [00:00, ?it/s]\n",
      "Reading Channels:   0%|          | 0/7 [00:00<?, ?it/s]"
     ]
    },
    {
     "name": "stdout",
     "output_type": "stream",
     "text": [
      "data/SC4332FC-Hypnogram.edf\n"
     ]
    },
    {
     "name": "stderr",
     "output_type": "stream",
     "text": [
      "Reading Channels: 100%|██████████| 7/7 [00:03<00:00,  2.13it/s]\n",
      "Reading Channels: 0it [00:00, ?it/s]\n",
      "Reading Channels:   0%|          | 0/7 [00:00<?, ?it/s]"
     ]
    },
    {
     "name": "stdout",
     "output_type": "stream",
     "text": [
      "data/SC4762EG-Hypnogram.edf\n"
     ]
    },
    {
     "name": "stderr",
     "output_type": "stream",
     "text": [
      "Reading Channels: 100%|██████████| 7/7 [00:03<00:00,  1.98it/s]\n",
      "Reading Channels: 0it [00:00, ?it/s]\n",
      "Reading Channels:   0%|          | 0/7 [00:00<?, ?it/s]"
     ]
    },
    {
     "name": "stdout",
     "output_type": "stream",
     "text": [
      "data/SC4522EM-Hypnogram.edf\n"
     ]
    },
    {
     "name": "stderr",
     "output_type": "stream",
     "text": [
      "Reading Channels: 100%|██████████| 7/7 [00:03<00:00,  2.04it/s]\n",
      "Reading Channels: 0it [00:00, ?it/s]\n",
      "Reading Channels:   0%|          | 0/5 [00:00<?, ?it/s]"
     ]
    },
    {
     "name": "stdout",
     "output_type": "stream",
     "text": [
      "data/ST7132JR-Hypnogram.edf\n"
     ]
    },
    {
     "name": "stderr",
     "output_type": "stream",
     "text": [
      "Reading Channels: 100%|██████████| 5/5 [00:01<00:00,  4.85it/s]\n",
      "Reading Channels:   0%|          | 0/7 [00:00<?, ?it/s]"
     ]
    },
    {
     "name": "stdout",
     "output_type": "stream",
     "text": [
      "data/ST7132JR-Hypnogram.edf: the file is not EDF(+) or BDF(+) compliant (EDF+ Recordingfield)\n",
      "data/SC4282GC-Hypnogram.edf\n"
     ]
    },
    {
     "name": "stderr",
     "output_type": "stream",
     "text": [
      "Reading Channels: 100%|██████████| 7/7 [00:03<00:00,  1.91it/s]\n",
      "Reading Channels: 0it [00:00, ?it/s]\n",
      "Reading Channels:  14%|█▍        | 1/7 [00:01<00:11,  1.95s/it]"
     ]
    },
    {
     "name": "stdout",
     "output_type": "stream",
     "text": [
      "data/SC4482FJ-Hypnogram.edf\n"
     ]
    },
    {
     "name": "stderr",
     "output_type": "stream",
     "text": [
      "Reading Channels: 100%|██████████| 7/7 [00:03<00:00,  1.95it/s]\n",
      "Reading Channels: 0it [00:00, ?it/s]\n",
      "Reading Channels:   0%|          | 0/7 [00:00<?, ?it/s]"
     ]
    },
    {
     "name": "stdout",
     "output_type": "stream",
     "text": [
      "data/SC4672GV-Hypnogram.edf\n"
     ]
    },
    {
     "name": "stderr",
     "output_type": "stream",
     "text": [
      "Reading Channels: 100%|██████████| 7/7 [00:03<00:00,  2.22it/s]\n",
      "Reading Channels: 0it [00:00, ?it/s]\n",
      "Reading Channels:   0%|          | 0/7 [00:00<?, ?it/s]"
     ]
    },
    {
     "name": "stdout",
     "output_type": "stream",
     "text": [
      "data/SC4812GV-Hypnogram.edf\n"
     ]
    },
    {
     "name": "stderr",
     "output_type": "stream",
     "text": [
      "Reading Channels: 100%|██████████| 7/7 [00:03<00:00,  2.22it/s]\n",
      "Reading Channels: 0it [00:00, ?it/s]\n",
      "Reading Channels:   0%|          | 0/7 [00:00<?, ?it/s]"
     ]
    },
    {
     "name": "stdout",
     "output_type": "stream",
     "text": [
      "data/SC4201EC-Hypnogram.edf\n"
     ]
    },
    {
     "name": "stderr",
     "output_type": "stream",
     "text": [
      "Reading Channels: 100%|██████████| 7/7 [00:03<00:00,  2.07it/s]\n",
      "Reading Channels: 0it [00:00, ?it/s]\n",
      "Reading Channels:   0%|          | 0/7 [00:00<?, ?it/s]"
     ]
    },
    {
     "name": "stdout",
     "output_type": "stream",
     "text": [
      "data/SC4612EA-Hypnogram.edf\n"
     ]
    },
    {
     "name": "stderr",
     "output_type": "stream",
     "text": [
      "Reading Channels: 100%|██████████| 7/7 [00:03<00:00,  1.92it/s]\n",
      "Reading Channels: 0it [00:00, ?it/s]\n",
      "Reading Channels:  20%|██        | 1/5 [00:00<00:01,  3.15it/s]"
     ]
    },
    {
     "name": "stdout",
     "output_type": "stream",
     "text": [
      "data/ST7091JE-Hypnogram.edf\n"
     ]
    },
    {
     "name": "stderr",
     "output_type": "stream",
     "text": [
      "Reading Channels: 100%|██████████| 5/5 [00:01<00:00,  4.41it/s]\n",
      "Reading Channels: 0it [00:00, ?it/s]\n",
      "Reading Channels:   0%|          | 0/5 [00:00<?, ?it/s]"
     ]
    },
    {
     "name": "stdout",
     "output_type": "stream",
     "text": [
      "data/ST7182JR-Hypnogram.edf\n"
     ]
    },
    {
     "name": "stderr",
     "output_type": "stream",
     "text": [
      "Reading Channels: 100%|██████████| 5/5 [00:01<00:00,  3.93it/s]\n",
      "Reading Channels: 0it [00:00, ?it/s]\n",
      "Reading Channels:   0%|          | 0/7 [00:00<?, ?it/s]"
     ]
    },
    {
     "name": "stdout",
     "output_type": "stream",
     "text": [
      "data/SC4471FA-Hypnogram.edf\n"
     ]
    },
    {
     "name": "stderr",
     "output_type": "stream",
     "text": [
      "Reading Channels: 100%|██████████| 7/7 [00:03<00:00,  2.08it/s]\n",
      "Reading Channels: 0it [00:00, ?it/s]\n",
      "Reading Channels:  20%|██        | 1/5 [00:00<00:01,  3.36it/s]"
     ]
    },
    {
     "name": "stdout",
     "output_type": "stream",
     "text": [
      "data/ST7102JE-Hypnogram.edf\n"
     ]
    },
    {
     "name": "stderr",
     "output_type": "stream",
     "text": [
      "Reading Channels: 100%|██████████| 5/5 [00:01<00:00,  4.46it/s]\n",
      "Reading Channels: 0it [00:00, ?it/s]\n",
      "Reading Channels:   0%|          | 0/5 [00:00<?, ?it/s]"
     ]
    },
    {
     "name": "stdout",
     "output_type": "stream",
     "text": [
      "data/ST7162JM-Hypnogram.edf\n"
     ]
    },
    {
     "name": "stderr",
     "output_type": "stream",
     "text": [
      "Reading Channels: 100%|██████████| 5/5 [00:01<00:00,  4.42it/s]\n",
      "Reading Channels: 0it [00:00, ?it/s]\n",
      "Reading Channels:   0%|          | 0/7 [00:00<?, ?it/s]"
     ]
    },
    {
     "name": "stdout",
     "output_type": "stream",
     "text": [
      "data/SC4182EC-Hypnogram.edf\n"
     ]
    },
    {
     "name": "stderr",
     "output_type": "stream",
     "text": [
      "Reading Channels: 100%|██████████| 7/7 [00:03<00:00,  1.91it/s]\n",
      "Reading Channels: 0it [00:00, ?it/s]\n",
      "Reading Channels:   0%|          | 0/7 [00:00<?, ?it/s]"
     ]
    },
    {
     "name": "stdout",
     "output_type": "stream",
     "text": [
      "data/SC4741EA-Hypnogram.edf\n"
     ]
    },
    {
     "name": "stderr",
     "output_type": "stream",
     "text": [
      "Reading Channels: 100%|██████████| 7/7 [00:03<00:00,  1.97it/s]\n",
      "Reading Channels: 0it [00:00, ?it/s]\n",
      "Reading Channels:   0%|          | 0/7 [00:00<?, ?it/s]"
     ]
    },
    {
     "name": "stdout",
     "output_type": "stream",
     "text": [
      "data/SC4032EP-Hypnogram.edf\n"
     ]
    },
    {
     "name": "stderr",
     "output_type": "stream",
     "text": [
      "Reading Channels: 100%|██████████| 7/7 [00:03<00:00,  1.97it/s]\n",
      "Reading Channels: 0it [00:00, ?it/s]\n",
      "Reading Channels:   0%|          | 0/7 [00:00<?, ?it/s]"
     ]
    },
    {
     "name": "stdout",
     "output_type": "stream",
     "text": [
      "data/SC4531EM-Hypnogram.edf\n"
     ]
    },
    {
     "name": "stderr",
     "output_type": "stream",
     "text": [
      "Reading Channels: 100%|██████████| 7/7 [00:03<00:00,  2.05it/s]\n",
      "Reading Channels: 0it [00:00, ?it/s]\n",
      "Reading Channels:   0%|          | 0/7 [00:00<?, ?it/s]"
     ]
    },
    {
     "name": "stdout",
     "output_type": "stream",
     "text": [
      "data/SC4382FW-Hypnogram.edf\n"
     ]
    },
    {
     "name": "stderr",
     "output_type": "stream",
     "text": [
      "Reading Channels: 100%|██████████| 7/7 [00:03<00:00,  2.04it/s]\n",
      "Reading Channels: 0it [00:00, ?it/s]\n",
      "Reading Channels:   0%|          | 0/7 [00:00<?, ?it/s]"
     ]
    },
    {
     "name": "stdout",
     "output_type": "stream",
     "text": [
      "data/SC4561FJ-Hypnogram.edf\n"
     ]
    },
    {
     "name": "stderr",
     "output_type": "stream",
     "text": [
      "Reading Channels: 100%|██████████| 7/7 [00:03<00:00,  2.09it/s]\n",
      "Reading Channels: 0it [00:00, ?it/s]\n",
      "Reading Channels:   0%|          | 0/7 [00:00<?, ?it/s]"
     ]
    },
    {
     "name": "stdout",
     "output_type": "stream",
     "text": [
      "data/SC4252EU-Hypnogram.edf\n"
     ]
    },
    {
     "name": "stderr",
     "output_type": "stream",
     "text": [
      "Reading Channels: 100%|██████████| 7/7 [00:03<00:00,  2.09it/s]\n",
      "Reading Channels: 0it [00:00, ?it/s]\n",
      "Reading Channels:  20%|██        | 1/5 [00:00<00:01,  3.33it/s]"
     ]
    },
    {
     "name": "stdout",
     "output_type": "stream",
     "text": [
      "data/ST7222JA-Hypnogram.edf\n"
     ]
    },
    {
     "name": "stderr",
     "output_type": "stream",
     "text": [
      "Reading Channels: 100%|██████████| 5/5 [00:01<00:00,  4.61it/s]\n",
      "Reading Channels: 0it [00:00, ?it/s]\n",
      "Reading Channels:   0%|          | 0/7 [00:00<?, ?it/s]"
     ]
    },
    {
     "name": "stdout",
     "output_type": "stream",
     "text": [
      "data/SC4121EC-Hypnogram.edf\n"
     ]
    },
    {
     "name": "stderr",
     "output_type": "stream",
     "text": [
      "Reading Channels: 100%|██████████| 7/7 [00:03<00:00,  2.09it/s]\n",
      "Reading Channels: 0it [00:00, ?it/s]\n",
      "Reading Channels:   0%|          | 0/7 [00:00<?, ?it/s]"
     ]
    },
    {
     "name": "stdout",
     "output_type": "stream",
     "text": [
      "data/SC4442EV-Hypnogram.edf\n"
     ]
    },
    {
     "name": "stderr",
     "output_type": "stream",
     "text": [
      "Reading Channels: 100%|██████████| 7/7 [00:03<00:00,  2.08it/s]\n",
      "Reading Channels: 0it [00:00, ?it/s]\n",
      "Reading Channels:  20%|██        | 1/5 [00:00<00:01,  3.03it/s]"
     ]
    },
    {
     "name": "stdout",
     "output_type": "stream",
     "text": [
      "data/ST7051JA-Hypnogram.edf\n"
     ]
    },
    {
     "name": "stderr",
     "output_type": "stream",
     "text": [
      "Reading Channels: 100%|██████████| 5/5 [00:01<00:00,  4.00it/s]\n",
      "Reading Channels: 0it [00:00, ?it/s]\n",
      "Reading Channels:   0%|          | 0/7 [00:00<?, ?it/s]"
     ]
    },
    {
     "name": "stdout",
     "output_type": "stream",
     "text": [
      "data/SC4541FA-Hypnogram.edf\n"
     ]
    },
    {
     "name": "stderr",
     "output_type": "stream",
     "text": [
      "Reading Channels: 100%|██████████| 7/7 [00:03<00:00,  1.96it/s]\n",
      "Reading Channels: 0it [00:00, ?it/s]\n",
      "Reading Channels:   0%|          | 0/7 [00:00<?, ?it/s]"
     ]
    },
    {
     "name": "stdout",
     "output_type": "stream",
     "text": [
      "data/SC4082EP-Hypnogram.edf\n"
     ]
    },
    {
     "name": "stderr",
     "output_type": "stream",
     "text": [
      "Reading Channels: 100%|██████████| 7/7 [00:03<00:00,  2.10it/s]\n",
      "Reading Channels: 0it [00:00, ?it/s]\n",
      "Reading Channels:   0%|          | 0/5 [00:00<?, ?it/s]"
     ]
    },
    {
     "name": "stdout",
     "output_type": "stream",
     "text": [
      "data/ST7061JR-Hypnogram.edf\n"
     ]
    },
    {
     "name": "stderr",
     "output_type": "stream",
     "text": [
      "Reading Channels: 100%|██████████| 5/5 [00:01<00:00,  4.10it/s]\n",
      "Reading Channels: 0it [00:00, ?it/s]\n",
      "Reading Channels:   0%|          | 0/7 [00:00<?, ?it/s]"
     ]
    },
    {
     "name": "stdout",
     "output_type": "stream",
     "text": [
      "data/SC4671GJ-Hypnogram.edf\n"
     ]
    },
    {
     "name": "stderr",
     "output_type": "stream",
     "text": [
      "Reading Channels: 100%|██████████| 7/7 [00:03<00:00,  2.03it/s]\n",
      "Reading Channels: 0it [00:00, ?it/s]\n",
      "Reading Channels:   0%|          | 0/7 [00:00<?, ?it/s]"
     ]
    },
    {
     "name": "stdout",
     "output_type": "stream",
     "text": [
      "data/SC4061EC-Hypnogram.edf\n"
     ]
    },
    {
     "name": "stderr",
     "output_type": "stream",
     "text": [
      "Reading Channels: 100%|██████████| 7/7 [00:03<00:00,  2.10it/s]\n",
      "Reading Channels: 0it [00:00, ?it/s]\n",
      "Reading Channels:   0%|          | 0/7 [00:00<?, ?it/s]"
     ]
    },
    {
     "name": "stdout",
     "output_type": "stream",
     "text": [
      "data/SC4412EM-Hypnogram.edf\n"
     ]
    },
    {
     "name": "stderr",
     "output_type": "stream",
     "text": [
      "Reading Channels: 100%|██████████| 7/7 [00:03<00:00,  2.00it/s]\n",
      "Reading Channels: 0it [00:00, ?it/s]\n",
      "Reading Channels:   0%|          | 0/7 [00:00<?, ?it/s]"
     ]
    },
    {
     "name": "stdout",
     "output_type": "stream",
     "text": [
      "data/SC4652EG-Hypnogram.edf\n"
     ]
    },
    {
     "name": "stderr",
     "output_type": "stream",
     "text": [
      "Reading Channels: 100%|██████████| 7/7 [00:03<00:00,  2.08it/s]\n",
      "Reading Channels: 0it [00:00, ?it/s]\n",
      "Reading Channels:   0%|          | 0/7 [00:00<?, ?it/s]"
     ]
    },
    {
     "name": "stdout",
     "output_type": "stream",
     "text": [
      "data/SC4481FV-Hypnogram.edf\n"
     ]
    },
    {
     "name": "stderr",
     "output_type": "stream",
     "text": [
      "Reading Channels: 100%|██████████| 7/7 [00:03<00:00,  1.94it/s]\n",
      "Reading Channels: 0it [00:00, ?it/s]\n",
      "Reading Channels:   0%|          | 0/7 [00:00<?, ?it/s]"
     ]
    },
    {
     "name": "stdout",
     "output_type": "stream",
     "text": [
      "data/SC4212EC-Hypnogram.edf\n"
     ]
    },
    {
     "name": "stderr",
     "output_type": "stream",
     "text": [
      "Reading Channels: 100%|██████████| 7/7 [00:03<00:00,  2.19it/s]\n",
      "Reading Channels: 0it [00:00, ?it/s]\n",
      "Reading Channels:   0%|          | 0/7 [00:00<?, ?it/s]"
     ]
    },
    {
     "name": "stdout",
     "output_type": "stream",
     "text": [
      "data/SC4801GC-Hypnogram.edf\n"
     ]
    },
    {
     "name": "stderr",
     "output_type": "stream",
     "text": [
      "Reading Channels: 100%|██████████| 7/7 [00:03<00:00,  2.10it/s]\n",
      "Reading Channels: 0it [00:00, ?it/s]\n",
      "Reading Channels:   0%|          | 0/7 [00:00<?, ?it/s]"
     ]
    },
    {
     "name": "stdout",
     "output_type": "stream",
     "text": [
      "data/SC4002EC-Hypnogram.edf\n",
      "data/SC4002E0-PSG.edf: the file is not EDF(+) or BDF(+) compliant (Filesize)\n",
      "data/SC4571FV-Hypnogram.edf\n"
     ]
    },
    {
     "name": "stderr",
     "output_type": "stream",
     "text": [
      "Reading Channels: 100%|██████████| 7/7 [00:04<00:00,  1.74it/s]\n",
      "Reading Channels: 0it [00:00, ?it/s]\n",
      "Reading Channels:  20%|██        | 1/5 [00:00<00:01,  3.00it/s]"
     ]
    },
    {
     "name": "stdout",
     "output_type": "stream",
     "text": [
      "data/ST7111JE-Hypnogram.edf\n"
     ]
    },
    {
     "name": "stderr",
     "output_type": "stream",
     "text": [
      "Reading Channels: 100%|██████████| 5/5 [00:01<00:00,  3.95it/s]\n",
      "Reading Channels: 0it [00:00, ?it/s]\n",
      "Reading Channels:   0%|          | 0/5 [00:00<?, ?it/s]"
     ]
    },
    {
     "name": "stdout",
     "output_type": "stream",
     "text": [
      "data/ST7172JA-Hypnogram.edf\n"
     ]
    },
    {
     "name": "stderr",
     "output_type": "stream",
     "text": [
      "Reading Channels: 100%|██████████| 5/5 [00:01<00:00,  4.43it/s]\n",
      "Reading Channels: 0it [00:00, ?it/s]\n",
      "Reading Channels:   0%|          | 0/5 [00:00<?, ?it/s]"
     ]
    },
    {
     "name": "stdout",
     "output_type": "stream",
     "text": [
      "data/ST7191JR-Hypnogram.edf\n"
     ]
    },
    {
     "name": "stderr",
     "output_type": "stream",
     "text": [
      "Reading Channels: 100%|██████████| 5/5 [00:01<00:00,  3.96it/s]\n",
      "Reading Channels: 0it [00:00, ?it/s]\n",
      "Reading Channels:   0%|          | 0/7 [00:00<?, ?it/s]"
     ]
    },
    {
     "name": "stdout",
     "output_type": "stream",
     "text": [
      "data/SC4221EJ-Hypnogram.edf\n"
     ]
    },
    {
     "name": "stderr",
     "output_type": "stream",
     "text": [
      "Reading Channels: 100%|██████████| 7/7 [00:03<00:00,  2.20it/s]\n",
      "Reading Channels: 0it [00:00, ?it/s]\n",
      "Reading Channels:   0%|          | 0/7 [00:00<?, ?it/s]"
     ]
    },
    {
     "name": "stdout",
     "output_type": "stream",
     "text": [
      "data/SC4602EJ-Hypnogram.edf\n"
     ]
    },
    {
     "name": "stderr",
     "output_type": "stream",
     "text": [
      "Reading Channels: 100%|██████████| 7/7 [00:03<00:00,  2.02it/s]\n",
      "Reading Channels: 0it [00:00, ?it/s]\n",
      "Reading Channels:   0%|          | 0/7 [00:00<?, ?it/s]"
     ]
    },
    {
     "name": "stdout",
     "output_type": "stream",
     "text": [
      "data/SC4042EC-Hypnogram.edf\n"
     ]
    },
    {
     "name": "stderr",
     "output_type": "stream",
     "text": [
      "Reading Channels: 100%|██████████| 7/7 [00:03<00:00,  2.02it/s]\n",
      "Reading Channels: 0it [00:00, ?it/s]\n",
      "Reading Channels:   0%|          | 0/7 [00:00<?, ?it/s]"
     ]
    },
    {
     "name": "stdout",
     "output_type": "stream",
     "text": [
      "data/SC4431EM-Hypnogram.edf\n"
     ]
    },
    {
     "name": "stderr",
     "output_type": "stream",
     "text": [
      "Reading Channels: 100%|██████████| 7/7 [00:03<00:00,  1.87it/s]\n",
      "Reading Channels: 0it [00:00, ?it/s]\n",
      "Reading Channels:  20%|██        | 1/5 [00:00<00:01,  2.77it/s]"
     ]
    },
    {
     "name": "stdout",
     "output_type": "stream",
     "text": [
      "data/ST7011JP-Hypnogram.edf\n"
     ]
    },
    {
     "name": "stderr",
     "output_type": "stream",
     "text": [
      "Reading Channels: 100%|██████████| 5/5 [00:01<00:00,  3.72it/s]\n",
      "Reading Channels: 0it [00:00, ?it/s]\n",
      "Reading Channels:   0%|          | 0/7 [00:00<?, ?it/s]"
     ]
    },
    {
     "name": "stdout",
     "output_type": "stream",
     "text": [
      "data/SC4822GC-Hypnogram.edf\n"
     ]
    },
    {
     "name": "stderr",
     "output_type": "stream",
     "text": [
      "Reading Channels: 100%|██████████| 7/7 [00:03<00:00,  1.88it/s]\n",
      "Reading Channels: 0it [00:00, ?it/s]\n",
      "Reading Channels:   0%|          | 0/7 [00:00<?, ?it/s]"
     ]
    },
    {
     "name": "stdout",
     "output_type": "stream",
     "text": [
      "data/SC4661EJ-Hypnogram.edf\n"
     ]
    },
    {
     "name": "stderr",
     "output_type": "stream",
     "text": [
      "Reading Channels: 100%|██████████| 7/7 [00:03<00:00,  2.04it/s]\n",
      "Reading Channels: 0it [00:00, ?it/s]\n",
      "Reading Channels:   0%|          | 0/7 [00:00<?, ?it/s]"
     ]
    },
    {
     "name": "stdout",
     "output_type": "stream",
     "text": [
      "data/SC4142EU-Hypnogram.edf\n"
     ]
    },
    {
     "name": "stderr",
     "output_type": "stream",
     "text": [
      "Reading Channels: 100%|██████████| 7/7 [00:03<00:00,  2.02it/s]\n",
      "Reading Channels: 0it [00:00, ?it/s]\n",
      "Reading Channels:   0%|          | 0/5 [00:00<?, ?it/s]"
     ]
    },
    {
     "name": "stdout",
     "output_type": "stream",
     "text": [
      "data/ST7151JA-Hypnogram.edf\n"
     ]
    },
    {
     "name": "stderr",
     "output_type": "stream",
     "text": [
      "Reading Channels: 100%|██████████| 5/5 [00:01<00:00,  3.44it/s]\n",
      "Reading Channels: 0it [00:00, ?it/s]\n",
      "Reading Channels:   0%|          | 0/7 [00:00<?, ?it/s]"
     ]
    },
    {
     "name": "stdout",
     "output_type": "stream",
     "text": [
      "data/SC4351FA-Hypnogram.edf\n"
     ]
    },
    {
     "name": "stderr",
     "output_type": "stream",
     "text": [
      "Reading Channels: 100%|██████████| 7/7 [00:03<00:00,  1.91it/s]\n",
      "Reading Channels: 0it [00:00, ?it/s]\n",
      "Reading Channels:   0%|          | 0/7 [00:00<?, ?it/s]"
     ]
    },
    {
     "name": "stdout",
     "output_type": "stream",
     "text": [
      "data/SC4491GJ-Hypnogram.edf\n"
     ]
    },
    {
     "name": "stderr",
     "output_type": "stream",
     "text": [
      "Reading Channels: 100%|██████████| 7/7 [00:03<00:00,  2.00it/s]\n",
      "Reading Channels: 0it [00:00, ?it/s]\n",
      "Reading Channels:   0%|          | 0/7 [00:00<?, ?it/s]"
     ]
    },
    {
     "name": "stdout",
     "output_type": "stream",
     "text": [
      "data/SC4641EP-Hypnogram.edf\n"
     ]
    },
    {
     "name": "stderr",
     "output_type": "stream",
     "text": [
      "Reading Channels: 100%|██████████| 7/7 [00:03<00:00,  2.12it/s]\n",
      "Reading Channels: 0it [00:00, ?it/s]\n",
      "Reading Channels:  20%|██        | 1/5 [00:00<00:01,  3.28it/s]"
     ]
    },
    {
     "name": "stdout",
     "output_type": "stream",
     "text": [
      "data/ST7041JO-Hypnogram.edf\n"
     ]
    },
    {
     "name": "stderr",
     "output_type": "stream",
     "text": [
      "Reading Channels: 100%|██████████| 5/5 [00:01<00:00,  4.27it/s]\n",
      "Reading Channels: 0it [00:00, ?it/s]\n",
      "Reading Channels:   0%|          | 0/7 [00:00<?, ?it/s]"
     ]
    },
    {
     "name": "stdout",
     "output_type": "stream",
     "text": [
      "data/SC4161EC-Hypnogram.edf\n"
     ]
    },
    {
     "name": "stderr",
     "output_type": "stream",
     "text": [
      "Reading Channels: 100%|██████████| 7/7 [00:03<00:00,  2.08it/s]\n",
      "Reading Channels: 0it [00:00, ?it/s]\n",
      "Reading Channels:   0%|          | 0/7 [00:00<?, ?it/s]"
     ]
    },
    {
     "name": "stdout",
     "output_type": "stream",
     "text": [
      "data/SC4102EC-Hypnogram.edf\n"
     ]
    },
    {
     "name": "stderr",
     "output_type": "stream",
     "text": [
      "Reading Channels: 100%|██████████| 7/7 [00:03<00:00,  1.80it/s]\n",
      "Reading Channels: 0it [00:00, ?it/s]\n",
      "Reading Channels:   0%|          | 0/5 [00:00<?, ?it/s]"
     ]
    },
    {
     "name": "stdout",
     "output_type": "stream",
     "text": [
      "data/ST7082JW-Hypnogram.edf\n"
     ]
    },
    {
     "name": "stderr",
     "output_type": "stream",
     "text": [
      "Reading Channels: 100%|██████████| 5/5 [00:01<00:00,  4.64it/s]\n",
      "Reading Channels: 0it [00:00, ?it/s]\n",
      "Reading Channels:   0%|          | 0/7 [00:00<?, ?it/s]"
     ]
    },
    {
     "name": "stdout",
     "output_type": "stream",
     "text": [
      "data/SC4451FY-Hypnogram.edf\n"
     ]
    },
    {
     "name": "stderr",
     "output_type": "stream",
     "text": [
      "Reading Channels: 100%|██████████| 7/7 [00:03<00:00,  1.94it/s]\n",
      "Reading Channels: 0it [00:00, ?it/s]\n",
      "Reading Channels:  20%|██        | 1/5 [00:00<00:01,  3.68it/s]"
     ]
    },
    {
     "name": "stdout",
     "output_type": "stream",
     "text": [
      "data/ST7072JA-Hypnogram.edf\n"
     ]
    },
    {
     "name": "stderr",
     "output_type": "stream",
     "text": [
      "Reading Channels: 100%|██████████| 5/5 [00:01<00:00,  4.74it/s]\n",
      "Reading Channels: 0it [00:00, ?it/s]\n",
      "Reading Channels:   0%|          | 0/7 [00:00<?, ?it/s]"
     ]
    },
    {
     "name": "stdout",
     "output_type": "stream",
     "text": [
      "data/SC4091EC-Hypnogram.edf\n"
     ]
    },
    {
     "name": "stderr",
     "output_type": "stream",
     "text": [
      "Reading Channels: 100%|██████████| 7/7 [00:03<00:00,  2.00it/s]\n",
      "Reading Channels: 0it [00:00, ?it/s]\n",
      "Reading Channels:   0%|          | 0/7 [00:00<?, ?it/s]"
     ]
    },
    {
     "name": "stdout",
     "output_type": "stream",
     "text": [
      "data/SC4621EV-Hypnogram.edf\n"
     ]
    },
    {
     "name": "stderr",
     "output_type": "stream",
     "text": [
      "Reading Channels: 100%|██████████| 7/7 [00:03<00:00,  2.05it/s]\n",
      "Reading Channels: 0it [00:00, ?it/s]\n",
      "Reading Channels:   0%|          | 0/7 [00:00<?, ?it/s]"
     ]
    },
    {
     "name": "stdout",
     "output_type": "stream",
     "text": [
      "data/SC4281GC-Hypnogram.edf\n"
     ]
    },
    {
     "name": "stderr",
     "output_type": "stream",
     "text": [
      "Reading Channels: 100%|██████████| 7/7 [00:03<00:00,  2.08it/s]\n",
      "Reading Channels: 0it [00:00, ?it/s]\n",
      "Reading Channels:   0%|          | 0/7 [00:00<?, ?it/s]"
     ]
    },
    {
     "name": "stdout",
     "output_type": "stream",
     "text": [
      "data/SC4731EM-Hypnogram.edf\n"
     ]
    },
    {
     "name": "stderr",
     "output_type": "stream",
     "text": [
      "Reading Channels: 100%|██████████| 7/7 [00:03<00:00,  1.96it/s]\n",
      "Reading Channels: 0it [00:00, ?it/s]\n",
      "Reading Channels:   0%|          | 0/5 [00:00<?, ?it/s]"
     ]
    },
    {
     "name": "stdout",
     "output_type": "stream",
     "text": [
      "data/ST7131JR-Hypnogram.edf\n"
     ]
    },
    {
     "name": "stderr",
     "output_type": "stream",
     "text": [
      "Reading Channels: 100%|██████████| 5/5 [00:01<00:00,  4.75it/s]\n",
      "Reading Channels:   0%|          | 0/7 [00:00<?, ?it/s]"
     ]
    },
    {
     "name": "stdout",
     "output_type": "stream",
     "text": [
      "data/ST7131JR-Hypnogram.edf: the file is not EDF(+) or BDF(+) compliant (EDF+ Recordingfield)\n",
      "data/SC4131EC-Hypnogram.edf\n"
     ]
    },
    {
     "name": "stderr",
     "output_type": "stream",
     "text": [
      "Reading Channels: 100%|██████████| 7/7 [00:03<00:00,  1.88it/s]\n",
      "Reading Channels: 0it [00:00, ?it/s]\n",
      "Reading Channels:   0%|          | 0/7 [00:00<?, ?it/s]"
     ]
    },
    {
     "name": "stdout",
     "output_type": "stream",
     "text": [
      "data/SC4312EM-Hypnogram.edf\n"
     ]
    },
    {
     "name": "stderr",
     "output_type": "stream",
     "text": [
      "Reading Channels: 100%|██████████| 7/7 [00:03<00:00,  2.10it/s]\n",
      "Reading Channels: 0it [00:00, ?it/s]\n",
      "Reading Channels:  20%|██        | 1/5 [00:00<00:01,  3.44it/s]"
     ]
    },
    {
     "name": "stdout",
     "output_type": "stream",
     "text": [
      "data/ST7201JO-Hypnogram.edf\n"
     ]
    },
    {
     "name": "stderr",
     "output_type": "stream",
     "text": [
      "Reading Channels: 100%|██████████| 5/5 [00:01<00:00,  4.59it/s]\n",
      "Reading Channels: 0it [00:00, ?it/s]\n",
      "Reading Channels:   0%|          | 0/5 [00:00<?, ?it/s]"
     ]
    },
    {
     "name": "stdout",
     "output_type": "stream",
     "text": [
      "data/ST7021JM-Hypnogram.edf\n"
     ]
    },
    {
     "name": "stderr",
     "output_type": "stream",
     "text": [
      "Reading Channels: 100%|██████████| 5/5 [00:01<00:00,  4.33it/s]\n",
      "Reading Channels:   0%|          | 0/7 [00:00<?, ?it/s]"
     ]
    },
    {
     "name": "stdout",
     "output_type": "stream",
     "text": [
      "data/ST7021JM-Hypnogram.edf: the file is not EDF(+) or BDF(+) compliant (EDF+ Recordingfield)\n",
      "data/SC4321EC-Hypnogram.edf\n"
     ]
    },
    {
     "name": "stderr",
     "output_type": "stream",
     "text": [
      "Reading Channels: 100%|██████████| 7/7 [00:03<00:00,  2.12it/s]\n",
      "Reading Channels: 0it [00:00, ?it/s]\n",
      "Reading Channels:   0%|          | 0/7 [00:00<?, ?it/s]"
     ]
    },
    {
     "name": "stdout",
     "output_type": "stream",
     "text": [
      "data/SC4152EC-Hypnogram.edf\n"
     ]
    },
    {
     "name": "stderr",
     "output_type": "stream",
     "text": [
      "Reading Channels: 100%|██████████| 7/7 [00:03<00:00,  2.10it/s]\n",
      "Reading Channels: 0it [00:00, ?it/s]\n",
      "Reading Channels:  20%|██        | 1/5 [00:00<00:01,  3.15it/s]"
     ]
    },
    {
     "name": "stdout",
     "output_type": "stream",
     "text": [
      "data/ST7212JJ-Hypnogram.edf\n"
     ]
    },
    {
     "name": "stderr",
     "output_type": "stream",
     "text": [
      "Reading Channels: 100%|██████████| 5/5 [00:01<00:00,  4.09it/s]\n",
      "Reading Channels: 0it [00:00, ?it/s]\n",
      "Reading Channels:   0%|          | 0/7 [00:00<?, ?it/s]"
     ]
    },
    {
     "name": "stdout",
     "output_type": "stream",
     "text": [
      "data/SC4752EM-Hypnogram.edf\n"
     ]
    },
    {
     "name": "stderr",
     "output_type": "stream",
     "text": [
      "Reading Channels: 100%|██████████| 7/7 [00:03<00:00,  2.20it/s]\n",
      "Reading Channels: 0it [00:00, ?it/s]\n",
      "Reading Channels:   0%|          | 0/7 [00:00<?, ?it/s]"
     ]
    },
    {
     "name": "stdout",
     "output_type": "stream",
     "text": [
      "data/SC4251EP-Hypnogram.edf\n"
     ]
    },
    {
     "name": "stderr",
     "output_type": "stream",
     "text": [
      "Reading Channels: 100%|██████████| 7/7 [00:03<00:00,  2.10it/s]\n",
      "Reading Channels: 0it [00:00, ?it/s]\n",
      "Reading Channels:   0%|          | 0/7 [00:00<?, ?it/s]"
     ]
    },
    {
     "name": "stdout",
     "output_type": "stream",
     "text": [
      "data/SC4271FC-Hypnogram.edf\n"
     ]
    },
    {
     "name": "stderr",
     "output_type": "stream",
     "text": [
      "Reading Channels: 100%|██████████| 7/7 [00:03<00:00,  2.31it/s]\n",
      "Reading Channels: 0it [00:00, ?it/s]\n",
      "Reading Channels:   0%|          | 0/7 [00:00<?, ?it/s]"
     ]
    },
    {
     "name": "stdout",
     "output_type": "stream",
     "text": [
      "data/SC4501EW-Hypnogram.edf\n"
     ]
    },
    {
     "name": "stderr",
     "output_type": "stream",
     "text": [
      "Reading Channels: 100%|██████████| 7/7 [00:03<00:00,  2.04it/s]\n",
      "Reading Channels: 0it [00:00, ?it/s]\n",
      "Reading Channels:  20%|██        | 1/5 [00:00<00:01,  3.03it/s]"
     ]
    },
    {
     "name": "stdout",
     "output_type": "stream",
     "text": [
      "data/ST7181JR-Hypnogram.edf\n"
     ]
    },
    {
     "name": "stderr",
     "output_type": "stream",
     "text": [
      "Reading Channels: 100%|██████████| 5/5 [00:01<00:00,  4.23it/s]\n",
      "Reading Channels: 0it [00:00, ?it/s]\n",
      "Reading Channels:   0%|          | 0/7 [00:00<?, ?it/s]"
     ]
    },
    {
     "name": "stdout",
     "output_type": "stream",
     "text": [
      "data/SC4181EC-Hypnogram.edf\n"
     ]
    },
    {
     "name": "stderr",
     "output_type": "stream",
     "text": [
      "Reading Channels: 100%|██████████| 7/7 [00:03<00:00,  1.85it/s]\n",
      "Reading Channels: 0it [00:00, ?it/s]\n",
      "Reading Channels:   0%|          | 0/7 [00:00<?, ?it/s]"
     ]
    },
    {
     "name": "stdout",
     "output_type": "stream",
     "text": [
      "data/SC4811GG-Hypnogram.edf\n"
     ]
    },
    {
     "name": "stderr",
     "output_type": "stream",
     "text": [
      "Reading Channels: 100%|██████████| 7/7 [00:03<00:00,  2.23it/s]\n",
      "Reading Channels: 0it [00:00, ?it/s]\n",
      "Reading Channels:   0%|          | 0/7 [00:00<?, ?it/s]"
     ]
    },
    {
     "name": "stdout",
     "output_type": "stream",
     "text": [
      "data/SC4331FV-Hypnogram.edf\n"
     ]
    },
    {
     "name": "stderr",
     "output_type": "stream",
     "text": [
      "Reading Channels: 100%|██████████| 7/7 [00:03<00:00,  2.06it/s]\n",
      "Reading Channels: 0it [00:00, ?it/s]\n",
      "Reading Channels:   0%|          | 0/5 [00:00<?, ?it/s]"
     ]
    },
    {
     "name": "stdout",
     "output_type": "stream",
     "text": [
      "data/ST7101JE-Hypnogram.edf\n"
     ]
    },
    {
     "name": "stderr",
     "output_type": "stream",
     "text": [
      "Reading Channels: 100%|██████████| 5/5 [00:01<00:00,  4.03it/s]\n",
      "Reading Channels: 0it [00:00, ?it/s]\n",
      "Reading Channels:   0%|          | 0/5 [00:00<?, ?it/s]"
     ]
    },
    {
     "name": "stdout",
     "output_type": "stream",
     "text": [
      "data/ST7161JM-Hypnogram.edf\n"
     ]
    },
    {
     "name": "stderr",
     "output_type": "stream",
     "text": [
      "Reading Channels: 100%|██████████| 5/5 [00:01<00:00,  3.99it/s]\n",
      "Reading Channels: 0it [00:00, ?it/s]\n",
      "Reading Channels:   0%|          | 0/7 [00:00<?, ?it/s]"
     ]
    },
    {
     "name": "stdout",
     "output_type": "stream",
     "text": [
      "data/SC4472FA-Hypnogram.edf\n"
     ]
    },
    {
     "name": "stderr",
     "output_type": "stream",
     "text": [
      "Reading Channels: 100%|██████████| 7/7 [00:03<00:00,  2.07it/s]\n",
      "Reading Channels: 0it [00:00, ?it/s]\n",
      "Reading Channels:   0%|          | 0/7 [00:00<?, ?it/s]"
     ]
    },
    {
     "name": "stdout",
     "output_type": "stream",
     "text": [
      "data/SC4012EC-Hypnogram.edf\n"
     ]
    },
    {
     "name": "stderr",
     "output_type": "stream",
     "text": [
      "Reading Channels: 100%|██████████| 7/7 [00:03<00:00,  2.01it/s]\n",
      "Reading Channels: 0it [00:00, ?it/s]\n",
      "Reading Channels:   0%|          | 0/5 [00:00<?, ?it/s]"
     ]
    },
    {
     "name": "stdout",
     "output_type": "stream",
     "text": [
      "data/ST7092JE-Hypnogram.edf\n"
     ]
    },
    {
     "name": "stderr",
     "output_type": "stream",
     "text": [
      "Reading Channels: 100%|██████████| 5/5 [00:01<00:00,  4.56it/s]\n",
      "Reading Channels:   0%|          | 0/7 [00:00<?, ?it/s]"
     ]
    },
    {
     "name": "stdout",
     "output_type": "stream",
     "text": [
      "data/ST7092JE-Hypnogram.edf: the file is not EDF(+) or BDF(+) compliant (EDF+ Recordingfield)\n",
      "data/SC4171EU-Hypnogram.edf\n"
     ]
    },
    {
     "name": "stderr",
     "output_type": "stream",
     "text": [
      "Reading Channels: 100%|██████████| 7/7 [00:03<00:00,  1.96it/s]\n",
      "Reading Channels: 0it [00:00, ?it/s]\n",
      "Reading Channels:   0%|          | 0/7 [00:00<?, ?it/s]"
     ]
    },
    {
     "name": "stdout",
     "output_type": "stream",
     "text": [
      "data/SC4202EC-Hypnogram.edf\n"
     ]
    },
    {
     "name": "stderr",
     "output_type": "stream",
     "text": [
      "Reading Channels: 100%|██████████| 7/7 [00:03<00:00,  2.18it/s]\n",
      "Reading Channels: 0it [00:00, ?it/s]\n",
      "Reading Channels:   0%|          | 0/7 [00:00<?, ?it/s]"
     ]
    },
    {
     "name": "stdout",
     "output_type": "stream",
     "text": [
      "data/SC4352FV-Hypnogram.edf\n"
     ]
    },
    {
     "name": "stderr",
     "output_type": "stream",
     "text": [
      "Reading Channels: 100%|██████████| 7/7 [00:03<00:00,  2.08it/s]\n",
      "Reading Channels: 0it [00:00, ?it/s]\n",
      "Reading Channels:   0%|          | 0/7 [00:00<?, ?it/s]"
     ]
    },
    {
     "name": "stdout",
     "output_type": "stream",
     "text": [
      "data/SC4071EC-Hypnogram.edf\n"
     ]
    },
    {
     "name": "stderr",
     "output_type": "stream",
     "text": [
      "Reading Channels: 100%|██████████| 7/7 [00:03<00:00,  2.06it/s]\n",
      "Reading Channels: 0it [00:00, ?it/s]\n",
      "Reading Channels:   0%|          | 0/7 [00:00<?, ?it/s]"
     ]
    },
    {
     "name": "stdout",
     "output_type": "stream",
     "text": [
      "data/SC4381FC-Hypnogram.edf\n"
     ]
    },
    {
     "name": "stderr",
     "output_type": "stream",
     "text": [
      "Reading Channels: 100%|██████████| 7/7 [00:03<00:00,  1.97it/s]\n",
      "Reading Channels: 0it [00:00, ?it/s]\n",
      "Reading Channels:   0%|          | 0/7 [00:00<?, ?it/s]"
     ]
    },
    {
     "name": "stdout",
     "output_type": "stream",
     "text": [
      "data/SC4302EV-Hypnogram.edf\n"
     ]
    },
    {
     "name": "stderr",
     "output_type": "stream",
     "text": [
      "Reading Channels: 100%|██████████| 7/7 [00:03<00:00,  1.96it/s]\n",
      "Reading Channels: 0it [00:00, ?it/s]\n",
      "Reading Channels:   0%|          | 0/5 [00:00<?, ?it/s]"
     ]
    },
    {
     "name": "stdout",
     "output_type": "stream",
     "text": [
      "data/ST7122JE-Hypnogram.edf\n"
     ]
    },
    {
     "name": "stderr",
     "output_type": "stream",
     "text": [
      "Reading Channels: 100%|██████████| 5/5 [00:01<00:00,  4.36it/s]\n",
      "Reading Channels: 0it [00:00, ?it/s]\n",
      "Reading Channels:   0%|          | 0/7 [00:00<?, ?it/s]"
     ]
    },
    {
     "name": "stdout",
     "output_type": "stream",
     "text": [
      "data/SC4632EA-Hypnogram.edf\n"
     ]
    },
    {
     "name": "stderr",
     "output_type": "stream",
     "text": [
      "Reading Channels: 100%|██████████| 7/7 [00:03<00:00,  1.96it/s]\n",
      "Reading Channels: 0it [00:00, ?it/s]\n",
      "Reading Channels:   0%|          | 0/7 [00:00<?, ?it/s]"
     ]
    },
    {
     "name": "stdout",
     "output_type": "stream",
     "text": [
      "data/SC4072EH-Hypnogram.edf\n"
     ]
    },
    {
     "name": "stderr",
     "output_type": "stream",
     "text": [
      "Reading Channels: 100%|██████████| 7/7 [00:03<00:00,  1.92it/s]\n",
      "Reading Channels: 0it [00:00, ?it/s]\n",
      "Reading Channels:   0%|          | 0/7 [00:00<?, ?it/s]"
     ]
    },
    {
     "name": "stdout",
     "output_type": "stream",
     "text": [
      "data/SC4631EM-Hypnogram.edf\n"
     ]
    },
    {
     "name": "stderr",
     "output_type": "stream",
     "text": [
      "Reading Channels: 100%|██████████| 7/7 [00:03<00:00,  2.12it/s]\n",
      "Reading Channels: 0it [00:00, ?it/s]\n",
      "Reading Channels:   0%|          | 0/7 [00:00<?, ?it/s]"
     ]
    },
    {
     "name": "stdout",
     "output_type": "stream",
     "text": [
      "data/SC4031EC-Hypnogram.edf\n"
     ]
    },
    {
     "name": "stderr",
     "output_type": "stream",
     "text": [
      "Reading Channels: 100%|██████████| 7/7 [00:03<00:00,  2.09it/s]\n",
      "Reading Channels: 0it [00:00, ?it/s]\n",
      "Reading Channels:   0%|          | 0/7 [00:00<?, ?it/s]"
     ]
    },
    {
     "name": "stdout",
     "output_type": "stream",
     "text": [
      "data/SC4581GM-Hypnogram.edf\n"
     ]
    },
    {
     "name": "stderr",
     "output_type": "stream",
     "text": [
      "Reading Channels: 100%|██████████| 7/7 [00:03<00:00,  2.16it/s]\n",
      "Reading Channels: 0it [00:00, ?it/s]\n",
      "Reading Channels:  20%|██        | 1/5 [00:00<00:01,  3.49it/s]"
     ]
    },
    {
     "name": "stdout",
     "output_type": "stream",
     "text": [
      "data/ST7141JE-Hypnogram.edf\n"
     ]
    },
    {
     "name": "stderr",
     "output_type": "stream",
     "text": [
      "Reading Channels: 100%|██████████| 5/5 [00:01<00:00,  4.77it/s]\n",
      "Reading Channels:   0%|          | 0/7 [00:00<?, ?it/s]"
     ]
    },
    {
     "name": "stdout",
     "output_type": "stream",
     "text": [
      "data/ST7141JE-Hypnogram.edf: the file is not EDF(+) or BDF(+) compliant (EDF+ Recordingfield)\n",
      "data/SC4422EA-Hypnogram.edf\n"
     ]
    },
    {
     "name": "stderr",
     "output_type": "stream",
     "text": [
      "Reading Channels: 100%|██████████| 7/7 [00:03<00:00,  2.11it/s]\n",
      "Reading Channels: 0it [00:00, ?it/s]\n",
      "Reading Channels:   0%|          | 0/7 [00:00<?, ?it/s]"
     ]
    },
    {
     "name": "stdout",
     "output_type": "stream",
     "text": [
      "data/SC4052EC-Hypnogram.edf\n"
     ]
    },
    {
     "name": "stderr",
     "output_type": "stream",
     "text": [
      "Reading Channels: 100%|██████████| 7/7 [00:03<00:00,  2.03it/s]\n",
      "Reading Channels: 0it [00:00, ?it/s]\n",
      "Reading Channels:   0%|          | 0/7 [00:00<?, ?it/s]"
     ]
    },
    {
     "name": "stdout",
     "output_type": "stream",
     "text": [
      "data/SC4011EH-Hypnogram.edf\n"
     ]
    },
    {
     "name": "stderr",
     "output_type": "stream",
     "text": [
      "Reading Channels: 100%|██████████| 7/7 [00:03<00:00,  2.25it/s]\n",
      "Reading Channels: 0it [00:00, ?it/s]\n",
      "Reading Channels:   0%|          | 0/7 [00:00<?, ?it/s]"
     ]
    },
    {
     "name": "stdout",
     "output_type": "stream",
     "text": [
      "data/SC4261FM-Hypnogram.edf\n"
     ]
    },
    {
     "name": "stderr",
     "output_type": "stream",
     "text": [
      "Reading Channels: 100%|██████████| 7/7 [00:03<00:00,  2.00it/s]\n",
      "Reading Channels: 0it [00:00, ?it/s]\n",
      "Reading Channels:   0%|          | 0/7 [00:00<?, ?it/s]"
     ]
    },
    {
     "name": "stdout",
     "output_type": "stream",
     "text": [
      "data/SC4231EJ-Hypnogram.edf\n"
     ]
    },
    {
     "name": "stderr",
     "output_type": "stream",
     "text": [
      "Reading Channels: 100%|██████████| 7/7 [00:03<00:00,  2.11it/s]\n",
      "Reading Channels: 0it [00:00, ?it/s]\n",
      "Reading Channels:   0%|          | 0/7 [00:00<?, ?it/s]"
     ]
    },
    {
     "name": "stdout",
     "output_type": "stream",
     "text": [
      "data/SC4742EC-Hypnogram.edf\n"
     ]
    },
    {
     "name": "stderr",
     "output_type": "stream",
     "text": [
      "Reading Channels: 100%|██████████| 7/7 [00:03<00:00,  2.23it/s]\n",
      "Reading Channels: 0it [00:00, ?it/s]\n",
      "Reading Channels:   0%|          | 0/7 [00:00<?, ?it/s]"
     ]
    },
    {
     "name": "stdout",
     "output_type": "stream",
     "text": [
      "data/SC4081EC-Hypnogram.edf\n"
     ]
    },
    {
     "name": "stderr",
     "output_type": "stream",
     "text": [
      "Reading Channels: 100%|██████████| 7/7 [00:03<00:00,  2.04it/s]\n",
      "Reading Channels: 0it [00:00, ?it/s]\n",
      "Reading Channels:   0%|          | 0/5 [00:00<?, ?it/s]"
     ]
    },
    {
     "name": "stdout",
     "output_type": "stream",
     "text": [
      "data/ST7241JO-Hypnogram.edf\n"
     ]
    },
    {
     "name": "stderr",
     "output_type": "stream",
     "text": [
      "Reading Channels: 100%|██████████| 5/5 [00:01<00:00,  4.02it/s]\n",
      "Reading Channels: 0it [00:00, ?it/s]\n",
      "Reading Channels:   0%|          | 0/7 [00:00<?, ?it/s]"
     ]
    },
    {
     "name": "stdout",
     "output_type": "stream",
     "text": [
      "data/SC4592GY-Hypnogram.edf\n"
     ]
    },
    {
     "name": "stderr",
     "output_type": "stream",
     "text": [
      "Reading Channels: 100%|██████████| 7/7 [00:02<00:00,  2.78it/s]\n",
      "Reading Channels: 0it [00:00, ?it/s]\n",
      "Reading Channels:   0%|          | 0/7 [00:00<?, ?it/s]"
     ]
    },
    {
     "name": "stdout",
     "output_type": "stream",
     "text": [
      "data/SC4582GP-Hypnogram.edf\n"
     ]
    },
    {
     "name": "stderr",
     "output_type": "stream",
     "text": [
      "Reading Channels: 100%|██████████| 7/7 [00:03<00:00,  2.20it/s]\n",
      "Reading Channels: 0it [00:00, ?it/s]\n",
      "Reading Channels:   0%|          | 0/7 [00:00<?, ?it/s]"
     ]
    },
    {
     "name": "stdout",
     "output_type": "stream",
     "text": [
      "data/SC4112EC-Hypnogram.edf\n"
     ]
    },
    {
     "name": "stderr",
     "output_type": "stream",
     "text": [
      "Reading Channels: 100%|██████████| 7/7 [00:03<00:00,  2.09it/s]\n",
      "Reading Channels: 0it [00:00, ?it/s]\n",
      "Reading Channels:   0%|          | 0/7 [00:00<?, ?it/s]"
     ]
    },
    {
     "name": "stdout",
     "output_type": "stream",
     "text": [
      "data/SC4771GC-Hypnogram.edf\n"
     ]
    },
    {
     "name": "stderr",
     "output_type": "stream",
     "text": [
      "Reading Channels: 100%|██████████| 7/7 [00:03<00:00,  2.11it/s]\n",
      "Reading Channels: 0it [00:00, ?it/s]\n",
      "Reading Channels:   0%|          | 0/7 [00:00<?, ?it/s]"
     ]
    },
    {
     "name": "stdout",
     "output_type": "stream",
     "text": [
      "data/SC4502EM-Hypnogram.edf\n"
     ]
    },
    {
     "name": "stderr",
     "output_type": "stream",
     "text": [
      "Reading Channels: 100%|██████████| 7/7 [00:03<00:00,  1.98it/s]\n",
      "Reading Channels: 0it [00:00, ?it/s]\n",
      "Reading Channels:   0%|          | 0/7 [00:00<?, ?it/s]"
     ]
    },
    {
     "name": "stdout",
     "output_type": "stream",
     "text": [
      "data/SC4721EC-Hypnogram.edf\n"
     ]
    },
    {
     "name": "stderr",
     "output_type": "stream",
     "text": [
      "Reading Channels: 100%|██████████| 7/7 [00:02<00:00,  2.45it/s]\n",
      "Reading Channels: 0it [00:00, ?it/s]\n",
      "Reading Channels:   0%|          | 0/7 [00:00<?, ?it/s]"
     ]
    },
    {
     "name": "stdout",
     "output_type": "stream",
     "text": [
      "data/SC4651EP-Hypnogram.edf\n"
     ]
    },
    {
     "name": "stderr",
     "output_type": "stream",
     "text": [
      "Reading Channels: 100%|██████████| 7/7 [00:04<00:00,  1.75it/s]\n",
      "Reading Channels: 0it [00:00, ?it/s]\n",
      "Reading Channels:   0%|          | 0/7 [00:00<?, ?it/s]"
     ]
    },
    {
     "name": "stdout",
     "output_type": "stream",
     "text": [
      "data/SC4341FA-Hypnogram.edf\n"
     ]
    },
    {
     "name": "stderr",
     "output_type": "stream",
     "text": [
      "Reading Channels: 100%|██████████| 7/7 [00:03<00:00,  2.08it/s]\n",
      "Reading Channels: 0it [00:00, ?it/s]\n"
     ]
    }
   ],
   "source": [
    "#get a list of all the hypnogram files\n",
    "hypnogram_files = glob.glob('%s/*-Hypnogram.edf' % data_dir)\n",
    "psg_files = glob.glob('%s/*-PSG.edf' % data_dir)\n",
    "do_plot = True\n",
    "\n",
    "for f in hypnogram_files:\n",
    "    print(f)\n",
    "    hypnogram_filepath = f\n",
    "\n",
    "    #get the corresponding PSG filepath\n",
    "    file_id = hypnogram_filepath.split('/')[1][0:7]\n",
    "    file_index = [file_id in psg_file for psg_file in psg_files]\n",
    "    file_index = np.where(np.array(file_index)==True)[0][0]\n",
    "    psg_filepath = psg_files[file_index]\n",
    "\n",
    "    #load the files\n",
    "    try:\n",
    "        psg_signals, psg_signal_headers, psg_header = highlevel.read_edf(psg_filepath)\n",
    "        hypnogram_signals, hypnogram_signal_headers, hypnogram_header = highlevel.read_edf(hypnogram_filepath)\n",
    "    except Exception as e:\n",
    "        print(str(e))\n",
    "        continue\n",
    "\n",
    "    #put into a dataframe\n",
    "    psg_columns = [psg_signal_headers[i]['label'] for i in range(2)]\n",
    "    psg_df = pd.DataFrame({psg_columns[0]: psg_signals[0], psg_columns[1]: psg_signals[1]})\n",
    "\n",
    "    #generate a sample resolution sleep stage label\n",
    "    sleep_stages = []\n",
    "    for annotation in hypnogram_header['annotations']:\n",
    "        #extract the duration in samples of this sleep stage\n",
    "        dur = int(str(annotation[1])[2:-1])\n",
    "        sleep_stage = annotation[2][-1]\n",
    "\n",
    "        #convert the label to the appropriate integer\n",
    "        if sleep_stage == 'W':\n",
    "            sleep_stage = 0\n",
    "        elif sleep_stage == '1':\n",
    "            sleep_stage = 1\n",
    "        elif sleep_stage == '2':\n",
    "            sleep_stage = 2\n",
    "        elif sleep_stage == '3':\n",
    "            sleep_stage = 3\n",
    "        elif sleep_stage == '4':\n",
    "            sleep_stage = 4\n",
    "        elif sleep_stage == 'R':\n",
    "            sleep_stage = 5\n",
    "        else:\n",
    "            sleep_stage = -1\n",
    "\n",
    "        sleep_stages.extend([sleep_stage for i in range(dur*fs)])\n",
    "\n",
    "\n",
    "    #cut off the psg data at the length of the sleep stage labels\n",
    "    if len(psg_df) > len(sleep_stages):\n",
    "        psg_df = psg_df[0:len(sleep_stages)]\n",
    "    else:\n",
    "        sleep_stages = sleep_stages[0:len(psg_df)]\n",
    "\n",
    "    #add in the sleep stages into the df and save the df\n",
    "    psg_df = psg_df.assign(label=sleep_stages)\n",
    "    psg_df.to_pickle(hypnogram_filepath.split('-')[0] + '.pkl')\n",
    "    \n",
    "    #plot the first file\n",
    "    if do_plot:\n",
    "        do_plot = False\n",
    "        fig, ax = plt.subplots(figsize=(10,6))\n",
    "        plt.subplot(311)\n",
    "        t = np.array([i/fs for i in range(len(psg_df))])\n",
    "        plt.plot(t,psg_df['EEG Fpz-Cz'])\n",
    "        plt.ylabel('EEG Fpz-Cz')\n",
    "\n",
    "        plt.subplot(312)\n",
    "        plt.plot(t, psg_df['EEG Pz-Oz'])\n",
    "        plt.ylabel('EEG Pz-Oz')\n",
    "\n",
    "        plt.subplot(313)\n",
    "        ax = plt.gca()\n",
    "        plt.plot(t, psg_df['label'])\n",
    "        ax.set_yticks([0,1,2,3,4,5])\n",
    "        ax.set_yticklabels(['Wake', 'NREM1', 'NREM2', 'NREM3', 'NREM4', 'REM'])\n",
    "        plt.ylabel('Sleep Stage')\n",
    "        plt.xlabel('Time (seconds)')\n",
    "        plt.savefig('parsed_data.png', dpi=150)\n",
    "        plt.show()\n",
    "\n"
   ]
  }
 ],
 "metadata": {
  "kernelspec": {
   "display_name": "Python 3",
   "language": "python",
   "name": "python3"
  },
  "language_info": {
   "codemirror_mode": {
    "name": "ipython",
    "version": 3
   },
   "file_extension": ".py",
   "mimetype": "text/x-python",
   "name": "python",
   "nbconvert_exporter": "python",
   "pygments_lexer": "ipython3",
   "version": "3.7.6"
  }
 },
 "nbformat": 4,
 "nbformat_minor": 4
}
